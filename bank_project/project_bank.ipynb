{
 "cells": [
  {
   "cell_type": "markdown",
   "metadata": {},
   "source": [
    "# Оценка надежности заемщика банка в условиях неполноты информации\n",
    "\n",
    "**Цель исследования**: оценка надежности заемщика банка в условиях неполноты исходной информации: наличия пропущенных данных и артефактов в предоставленных банком данных.\n",
    "\n",
    " - Заказчик — кредитный отдел банка. \n",
    " - Входные данные от банка — статистика о платёжеспособности клиентов.\n",
    " - Объектом исследования является заёмщик банка.\n",
    " - Предмет исследования - надёжность заёмщика банка.\n",
    "\n",
    "\n",
    "Результаты исследования будут учтены при построении модели **кредитного скоринга** — специальной системы, которая оценивает способность потенциального заёмщика вернуть кредит банку."
   ]
  },
  {
   "cell_type": "markdown",
   "metadata": {},
   "source": [
    "**Задачи:**\n",
    "\n",
    "- Разработка подхода к предобработке данных;\n",
    "- Обработка пропущенных значений и артефактов;\n",
    "- Обработка дубликатов данных;\n",
    "- В рамках данной работы необходимо ответить на следующие вопросы:\n",
    "    - Есть ли зависимость между наличием детей и возвратом кредита в срок?\n",
    "    - Есть ли зависимость между семейным положением и возвратом кредита в срок?\n",
    "    - Есть ли зависимость между уровнем дохода и возвратом кредита в срок?\n",
    "    - Как разные цели кредита влияют на его возврат в срок?\n",
    "    "
   ]
  },
  {
   "cell_type": "markdown",
   "metadata": {},
   "source": [
    "## 1. Изучение общей информации"
   ]
  },
  {
   "cell_type": "code",
   "execution_count": 39,
   "metadata": {},
   "outputs": [
    {
     "data": {
      "text/html": [
       "<div>\n",
       "<style scoped>\n",
       "    .dataframe tbody tr th:only-of-type {\n",
       "        vertical-align: middle;\n",
       "    }\n",
       "\n",
       "    .dataframe tbody tr th {\n",
       "        vertical-align: top;\n",
       "    }\n",
       "\n",
       "    .dataframe thead th {\n",
       "        text-align: right;\n",
       "    }\n",
       "</style>\n",
       "<table border=\"1\" class=\"dataframe\">\n",
       "  <thead>\n",
       "    <tr style=\"text-align: right;\">\n",
       "      <th></th>\n",
       "      <th>children</th>\n",
       "      <th>days_employed</th>\n",
       "      <th>dob_years</th>\n",
       "      <th>education</th>\n",
       "      <th>education_id</th>\n",
       "      <th>family_status</th>\n",
       "      <th>family_status_id</th>\n",
       "      <th>gender</th>\n",
       "      <th>income_type</th>\n",
       "      <th>debt</th>\n",
       "      <th>total_income</th>\n",
       "      <th>purpose</th>\n",
       "    </tr>\n",
       "  </thead>\n",
       "  <tbody>\n",
       "    <tr>\n",
       "      <th>0</th>\n",
       "      <td>1</td>\n",
       "      <td>-8,437.67</td>\n",
       "      <td>42</td>\n",
       "      <td>высшее</td>\n",
       "      <td>0</td>\n",
       "      <td>женат / замужем</td>\n",
       "      <td>0</td>\n",
       "      <td>F</td>\n",
       "      <td>сотрудник</td>\n",
       "      <td>0</td>\n",
       "      <td>253,875.64</td>\n",
       "      <td>покупка жилья</td>\n",
       "    </tr>\n",
       "    <tr>\n",
       "      <th>1</th>\n",
       "      <td>1</td>\n",
       "      <td>-4,024.80</td>\n",
       "      <td>36</td>\n",
       "      <td>среднее</td>\n",
       "      <td>1</td>\n",
       "      <td>женат / замужем</td>\n",
       "      <td>0</td>\n",
       "      <td>F</td>\n",
       "      <td>сотрудник</td>\n",
       "      <td>0</td>\n",
       "      <td>112,080.01</td>\n",
       "      <td>приобретение автомобиля</td>\n",
       "    </tr>\n",
       "    <tr>\n",
       "      <th>2</th>\n",
       "      <td>0</td>\n",
       "      <td>-5,623.42</td>\n",
       "      <td>33</td>\n",
       "      <td>Среднее</td>\n",
       "      <td>1</td>\n",
       "      <td>женат / замужем</td>\n",
       "      <td>0</td>\n",
       "      <td>M</td>\n",
       "      <td>сотрудник</td>\n",
       "      <td>0</td>\n",
       "      <td>145,885.95</td>\n",
       "      <td>покупка жилья</td>\n",
       "    </tr>\n",
       "    <tr>\n",
       "      <th>3</th>\n",
       "      <td>3</td>\n",
       "      <td>-4,124.75</td>\n",
       "      <td>32</td>\n",
       "      <td>среднее</td>\n",
       "      <td>1</td>\n",
       "      <td>женат / замужем</td>\n",
       "      <td>0</td>\n",
       "      <td>M</td>\n",
       "      <td>сотрудник</td>\n",
       "      <td>0</td>\n",
       "      <td>267,628.55</td>\n",
       "      <td>дополнительное образование</td>\n",
       "    </tr>\n",
       "    <tr>\n",
       "      <th>4</th>\n",
       "      <td>0</td>\n",
       "      <td>340,266.07</td>\n",
       "      <td>53</td>\n",
       "      <td>среднее</td>\n",
       "      <td>1</td>\n",
       "      <td>гражданский брак</td>\n",
       "      <td>1</td>\n",
       "      <td>F</td>\n",
       "      <td>пенсионер</td>\n",
       "      <td>0</td>\n",
       "      <td>158,616.08</td>\n",
       "      <td>сыграть свадьбу</td>\n",
       "    </tr>\n",
       "    <tr>\n",
       "      <th>5</th>\n",
       "      <td>0</td>\n",
       "      <td>-926.19</td>\n",
       "      <td>27</td>\n",
       "      <td>высшее</td>\n",
       "      <td>0</td>\n",
       "      <td>гражданский брак</td>\n",
       "      <td>1</td>\n",
       "      <td>M</td>\n",
       "      <td>компаньон</td>\n",
       "      <td>0</td>\n",
       "      <td>255,763.57</td>\n",
       "      <td>покупка жилья</td>\n",
       "    </tr>\n",
       "    <tr>\n",
       "      <th>6</th>\n",
       "      <td>0</td>\n",
       "      <td>-2,879.20</td>\n",
       "      <td>43</td>\n",
       "      <td>высшее</td>\n",
       "      <td>0</td>\n",
       "      <td>женат / замужем</td>\n",
       "      <td>0</td>\n",
       "      <td>F</td>\n",
       "      <td>компаньон</td>\n",
       "      <td>0</td>\n",
       "      <td>240,525.97</td>\n",
       "      <td>операции с жильем</td>\n",
       "    </tr>\n",
       "    <tr>\n",
       "      <th>7</th>\n",
       "      <td>0</td>\n",
       "      <td>-152.78</td>\n",
       "      <td>50</td>\n",
       "      <td>СРЕДНЕЕ</td>\n",
       "      <td>1</td>\n",
       "      <td>женат / замужем</td>\n",
       "      <td>0</td>\n",
       "      <td>M</td>\n",
       "      <td>сотрудник</td>\n",
       "      <td>0</td>\n",
       "      <td>135,823.93</td>\n",
       "      <td>образование</td>\n",
       "    </tr>\n",
       "    <tr>\n",
       "      <th>8</th>\n",
       "      <td>2</td>\n",
       "      <td>-6,929.87</td>\n",
       "      <td>35</td>\n",
       "      <td>ВЫСШЕЕ</td>\n",
       "      <td>0</td>\n",
       "      <td>гражданский брак</td>\n",
       "      <td>1</td>\n",
       "      <td>F</td>\n",
       "      <td>сотрудник</td>\n",
       "      <td>0</td>\n",
       "      <td>95,856.83</td>\n",
       "      <td>на проведение свадьбы</td>\n",
       "    </tr>\n",
       "    <tr>\n",
       "      <th>9</th>\n",
       "      <td>0</td>\n",
       "      <td>-2,188.76</td>\n",
       "      <td>41</td>\n",
       "      <td>среднее</td>\n",
       "      <td>1</td>\n",
       "      <td>женат / замужем</td>\n",
       "      <td>0</td>\n",
       "      <td>M</td>\n",
       "      <td>сотрудник</td>\n",
       "      <td>0</td>\n",
       "      <td>144,425.94</td>\n",
       "      <td>покупка жилья для семьи</td>\n",
       "    </tr>\n",
       "  </tbody>\n",
       "</table>\n",
       "</div>"
      ],
      "text/plain": [
       "   children  days_employed  dob_years education  education_id  \\\n",
       "0         1      -8,437.67         42    высшее             0   \n",
       "1         1      -4,024.80         36   среднее             1   \n",
       "2         0      -5,623.42         33   Среднее             1   \n",
       "3         3      -4,124.75         32   среднее             1   \n",
       "4         0     340,266.07         53   среднее             1   \n",
       "5         0        -926.19         27    высшее             0   \n",
       "6         0      -2,879.20         43    высшее             0   \n",
       "7         0        -152.78         50   СРЕДНЕЕ             1   \n",
       "8         2      -6,929.87         35    ВЫСШЕЕ             0   \n",
       "9         0      -2,188.76         41   среднее             1   \n",
       "\n",
       "      family_status  family_status_id gender income_type  debt  total_income  \\\n",
       "0   женат / замужем                 0      F   сотрудник     0    253,875.64   \n",
       "1   женат / замужем                 0      F   сотрудник     0    112,080.01   \n",
       "2   женат / замужем                 0      M   сотрудник     0    145,885.95   \n",
       "3   женат / замужем                 0      M   сотрудник     0    267,628.55   \n",
       "4  гражданский брак                 1      F   пенсионер     0    158,616.08   \n",
       "5  гражданский брак                 1      M   компаньон     0    255,763.57   \n",
       "6   женат / замужем                 0      F   компаньон     0    240,525.97   \n",
       "7   женат / замужем                 0      M   сотрудник     0    135,823.93   \n",
       "8  гражданский брак                 1      F   сотрудник     0     95,856.83   \n",
       "9   женат / замужем                 0      M   сотрудник     0    144,425.94   \n",
       "\n",
       "                      purpose  \n",
       "0               покупка жилья  \n",
       "1     приобретение автомобиля  \n",
       "2               покупка жилья  \n",
       "3  дополнительное образование  \n",
       "4             сыграть свадьбу  \n",
       "5               покупка жилья  \n",
       "6           операции с жильем  \n",
       "7                 образование  \n",
       "8       на проведение свадьбы  \n",
       "9     покупка жилья для семьи  "
      ]
     },
     "metadata": {},
     "output_type": "display_data"
    },
    {
     "name": "stdout",
     "output_type": "stream",
     "text": [
      "<class 'pandas.core.frame.DataFrame'>\n",
      "RangeIndex: 21525 entries, 0 to 21524\n",
      "Data columns (total 12 columns):\n",
      " #   Column            Non-Null Count  Dtype  \n",
      "---  ------            --------------  -----  \n",
      " 0   children          21525 non-null  int64  \n",
      " 1   days_employed     19351 non-null  float64\n",
      " 2   dob_years         21525 non-null  int64  \n",
      " 3   education         21525 non-null  object \n",
      " 4   education_id      21525 non-null  int64  \n",
      " 5   family_status     21525 non-null  object \n",
      " 6   family_status_id  21525 non-null  int64  \n",
      " 7   gender            21525 non-null  object \n",
      " 8   income_type       21525 non-null  object \n",
      " 9   debt              21525 non-null  int64  \n",
      " 10  total_income      19351 non-null  float64\n",
      " 11  purpose           21525 non-null  object \n",
      "dtypes: float64(2), int64(5), object(5)\n",
      "memory usage: 2.0+ MB\n"
     ]
    }
   ],
   "source": [
    "import pandas as pd #loading the necessary libraries\n",
    "import numpy as np\n",
    "import pymorphy2\n",
    "from collections import Counter\n",
    "from nltk.corpus import stopwords\n",
    "pd.options.mode.chained_assignment = None  # default='warn'\n",
    "data = pd.read_csv('data.csv') #read the file\n",
    "display(data.head(10))\n",
    "data.info()"
   ]
  },
  {
   "cell_type": "markdown",
   "metadata": {},
   "source": [
    "**Вывод**"
   ]
  },
  {
   "cell_type": "markdown",
   "metadata": {},
   "source": [
    "Мы имеем данные с таблицей, состоящей из 12 столбцов. \n",
    "-\tchildren — количество детей в семье\n",
    "-\tdays_employed — общий трудовой стаж в днях\n",
    "-\tdob_years — возраст клиента в годах\n",
    "-\teducation — уровень образования клиента\n",
    "-\teducation_id — идентификатор уровня образования\n",
    "-\tfamily_status — семейное положение\n",
    "-\tfamily_status_id — идентификатор семейного положения\n",
    "-\tgender — пол клиента\n",
    "-\tincome_type — тип занятости\n",
    "-\tdebt — имел ли задолженность по возврату кредитов\n",
    "-\ttotal_income — ежемесячный доход\n",
    "-\tpurpose — цель получения кредита\n",
    "\n",
    "\n",
    "Названия столбцов не содержат пробелов, все знаки в одном регистре и на одном языке.\n",
    "\n",
    "Есть категориальные и количественные данные. \n",
    "\n",
    "Есть пропуски в столбцах `'days_employed'`, `'total_income'`.\n",
    "\n",
    "Значения в столбце `'days_employed'` представлены со знаком минус.\n",
    "\n",
    "Типы столбцов соответствуют информации хранящихся в них.\n",
    "\n",
    "Некоторые данные представлены в нижнем регистре, некоторые в верхнем. (пример: столбец `'education'` - среднее и СРЕДНЕЕ). Лучше перевести все в нижний регистр."
   ]
  },
  {
   "cell_type": "markdown",
   "metadata": {},
   "source": [
    "## 2. Предобработка данных"
   ]
  },
  {
   "cell_type": "markdown",
   "metadata": {},
   "source": [
    "<a name='дубликаты'></a>\n",
    "### Обработка дубликатов"
   ]
  },
  {
   "cell_type": "code",
   "execution_count": 40,
   "metadata": {},
   "outputs": [
    {
     "data": {
      "text/plain": [
       "54"
      ]
     },
     "execution_count": 40,
     "metadata": {},
     "output_type": "execute_result"
    }
   ],
   "source": [
    "data.duplicated().sum()"
   ]
  },
  {
   "cell_type": "markdown",
   "metadata": {},
   "source": [
    "Явных дубликатов 54 строки.\n",
    "\n",
    "Обычно дубликаты удаляются из датафрейма. Но я предлагаю взглянуть на них более пристально.\n",
    "\n",
    "В наших данных может быть два разных человека, у которых бы совпадали данные по следующим столбцам: `children`, `dob_years`, `education`, `family_status`, `gender`, `income_type`, `debt`, `purpose` - это не те дубликаты которые надо удалять.\n",
    "\n",
    "НО! те данные которые есть в столбцах `days_employed` и `total_income` вряд ли совпадут у двух разных клиентов. Посмотрим на значения столбцов `days_employed` и `total_income` для наших дубликатов."
   ]
  },
  {
   "cell_type": "code",
   "execution_count": 41,
   "metadata": {},
   "outputs": [
    {
     "name": "stdout",
     "output_type": "stream",
     "text": [
      "[nan]\n",
      "[nan]\n"
     ]
    }
   ],
   "source": [
    "print(data[data.duplicated()].days_employed.unique()) \n",
    "print(data[data.duplicated()].total_income.unique())"
   ]
  },
  {
   "cell_type": "markdown",
   "metadata": {},
   "source": [
    "Таким образом у всех дубликатов отсутствуют значения в столбцах `days_employed` и `total_income`. Поэтому считаем их не повторами, а похожими людьми и оставляем в нашем датасете.\n",
    "\n",
    "В процессе предобработки данных могут возникнут еще дубликаты (например после перевода значений в нижний регистр или заполнение пропущенных значений медианным или после лемматизации), но мы и в дальнейшем не будем удалять дубликаты, поскольку делаем предположение, что это просто клиенты с одинаковыми данными."
   ]
  },
  {
   "cell_type": "markdown",
   "metadata": {},
   "source": [
    "### Обработка невозможных значений и пропусков  в столбцах."
   ]
  },
  {
   "cell_type": "markdown",
   "metadata": {},
   "source": [
    "Часто предоставленные данные имеют пропуски, возникшие по тем или иным причинам, что влечёт за собой снижение эффективности применения статистических моделей. А также могут присутствовать артефакты(невозможные значения), которые в неисправленом виде могут построить неверную модель и привести к ошибкам. Проверим, есть ли такие в наших данных. "
   ]
  },
  {
   "cell_type": "code",
   "execution_count": 42,
   "metadata": {},
   "outputs": [
    {
     "name": "stdout",
     "output_type": "stream",
     "text": [
      "        Доля пропусков(в процентах):\n",
      "children             0\n",
      "days_employed       10\n",
      "dob_years            0\n",
      "education            0\n",
      "education_id         0\n",
      "family_status        0\n",
      "family_status_id     0\n",
      "gender               0\n",
      "income_type          0\n",
      "debt                 0\n",
      "total_income        10\n",
      "purpose              0\n",
      "dtype: int64\n",
      "Пропущенные значения в одних и тех же строках  -  True\n"
     ]
    }
   ],
   "source": [
    "print('        Доля пропусков(в процентах):')\n",
    "print(data.isna().sum().apply(lambda x: round(x*100/len(data)))) # calculate the percentage of missing values for each column\n",
    "print('Пропущенные значения в одних и тех же строках  - ', data[data.days_employed.isna()].equals(data[data.total_income.isna()])) # check if NaN values are in the same rows"
   ]
  },
  {
   "cell_type": "markdown",
   "metadata": {},
   "source": [
    "Уже на этопе изучения общей информации, мы заметили, что некоторые значения в столбцах не соответствуют данным которые должны там храниться. А также в двух столбцах: `days_employed` и `total_income` имеются пропущенные значения. Пропущенно около 10% значений, что достаточно много для того что бы не обращать на них внимания и удалить их. Проверено, если пропущенно значение об общем трудовом стаже, то и значение ежемесячного дохода тоже отсутствует. Есть предположение, что люди не захотели указывать эту информацию.\n",
    "\n",
    "Чтобы решить, что делать с некорректными и пропущенными значениями, рассмотрим каждый столбец отдельно."
   ]
  },
  {
   "cell_type": "markdown",
   "metadata": {},
   "source": [
    "<a name='children'></a>\n",
    "#### Столбец `children`"
   ]
  },
  {
   "cell_type": "code",
   "execution_count": 43,
   "metadata": {},
   "outputs": [
    {
     "name": "stdout",
     "output_type": "stream",
     "text": [
      "Значения, которые принимает столбец children: [1, 0, 3, 2, -1, 4, 20, 5]\n"
     ]
    }
   ],
   "source": [
    "print(f'Значения, которые принимает столбец children: {list(data.children.unique())}') #find unique values for column 'children'"
   ]
  },
  {
   "cell_type": "code",
   "execution_count": 44,
   "metadata": {},
   "outputs": [
    {
     "name": "stdout",
     "output_type": "stream",
     "text": [
      "Значения, которые теперь принимает столбец children: [1, 0, 3, 2, 4, 20, 5]\n"
     ]
    }
   ],
   "source": [
    "data.loc[(data.children == -1), 'children'] = 1 #replace -1 to 1\n",
    "print(f'Значения, которые теперь принимает столбец children: {list(data.children.unique())}') #check the replacement"
   ]
  },
  {
   "cell_type": "markdown",
   "metadata": {},
   "source": [
    "В столбце `children` было значение -1. Такого не бывает. Скорее всего это техническая ошибка. Исправили ее заменой на 1."
   ]
  },
  {
   "cell_type": "markdown",
   "metadata": {},
   "source": [
    "<a name='dob_years'></a>\n",
    "#### Столбец `dob_years`"
   ]
  },
  {
   "cell_type": "code",
   "execution_count": 45,
   "metadata": {},
   "outputs": [
    {
     "name": "stdout",
     "output_type": "stream",
     "text": [
      "Описательная статистика `dob_years`:\n"
     ]
    },
    {
     "data": {
      "text/plain": [
       "count   21,525.00\n",
       "mean        43.29\n",
       "std         12.57\n",
       "min          0.00\n",
       "25%         33.00\n",
       "50%         42.00\n",
       "75%         53.00\n",
       "max         75.00\n",
       "Name: dob_years, dtype: float64"
      ]
     },
     "execution_count": 45,
     "metadata": {},
     "output_type": "execute_result"
    }
   ],
   "source": [
    "print('Описательная статистика `dob_years`:')\n",
    "data.dob_years.describe()"
   ]
  },
  {
   "cell_type": "markdown",
   "metadata": {},
   "source": [
    "Минимальное значения возраста заемщика 0 лет. Посмотрим какие еще нереальные значения могут принимать значения в этом столбце."
   ]
  },
  {
   "cell_type": "code",
   "execution_count": 46,
   "metadata": {},
   "outputs": [
    {
     "name": "stdout",
     "output_type": "stream",
     "text": [
      "[0]\n",
      "101 строки с нулевым значением возраста заемщика\n"
     ]
    }
   ],
   "source": [
    "print(data[data.dob_years < 14].dob_years.unique()) #are there clients under 14 years old\n",
    "print(f'{len(data[data.dob_years==0])} строки с нулевым значением возраста заемщика')"
   ]
  },
  {
   "cell_type": "code",
   "execution_count": 47,
   "metadata": {},
   "outputs": [
    {
     "name": "stdout",
     "output_type": "stream",
     "text": [
      "Описательная статистика `dob_years` после замены нулевого значения:\n"
     ]
    },
    {
     "data": {
      "text/plain": [
       "count   21,525.00\n",
       "mean        43.50\n",
       "std         12.22\n",
       "min         19.00\n",
       "25%         34.00\n",
       "50%         43.00\n",
       "75%         53.00\n",
       "max         75.00\n",
       "Name: dob_years, dtype: float64"
      ]
     },
     "execution_count": 47,
     "metadata": {},
     "output_type": "execute_result"
    }
   ],
   "source": [
    "data.loc[(data.dob_years == 0), 'dob_years'] = data.dob_years.mean() #mean value instead zero\n",
    "print('Описательная статистика `dob_years` после замены нулевого значения:')\n",
    "data.dob_years.describe()"
   ]
  },
  {
   "cell_type": "markdown",
   "metadata": {},
   "source": [
    "Заполнили нули средним значением этого столбца. Описательная статистика столбца изменилась несильно."
   ]
  },
  {
   "cell_type": "markdown",
   "metadata": {},
   "source": [
    "<a name='days_employed'></a>\n",
    "#### Столбец `days_employed`"
   ]
  },
  {
   "cell_type": "code",
   "execution_count": 48,
   "metadata": {},
   "outputs": [
    {
     "name": "stdout",
     "output_type": "stream",
     "text": [
      "Описательная статистика `days_employed`:\n"
     ]
    },
    {
     "data": {
      "text/plain": [
       "count    19,351.00\n",
       "mean     63,046.50\n",
       "std     140,827.31\n",
       "min     -18,388.95\n",
       "25%      -2,747.42\n",
       "50%      -1,203.37\n",
       "75%        -291.10\n",
       "max     401,755.40\n",
       "Name: days_employed, dtype: float64"
      ]
     },
     "execution_count": 48,
     "metadata": {},
     "output_type": "execute_result"
    }
   ],
   "source": [
    "print('Описательная статистика `days_employed`:')\n",
    "data.days_employed.describe() #show descriptive statistics"
   ]
  },
  {
   "cell_type": "markdown",
   "metadata": {},
   "source": [
    "В столбце `days_employed` содержатся значения, неподходящие для данного столбца: \n",
    " - отрицательные значения,\n",
    " - нереально большие - максимальное значение 401755.4 / 247 рабочих дней в году = 1626 лет.\n",
    " \n",
    "Реально возможные значения в этом столбце: от 0 дней  до (60лет*247 рабочих дней в году = 14820)дней.\n",
    "Посмотрим есть ли такие значения в наших данных."
   ]
  },
  {
   "cell_type": "code",
   "execution_count": 49,
   "metadata": {},
   "outputs": [
    {
     "data": {
      "text/html": [
       "<div>\n",
       "<style scoped>\n",
       "    .dataframe tbody tr th:only-of-type {\n",
       "        vertical-align: middle;\n",
       "    }\n",
       "\n",
       "    .dataframe tbody tr th {\n",
       "        vertical-align: top;\n",
       "    }\n",
       "\n",
       "    .dataframe thead th {\n",
       "        text-align: right;\n",
       "    }\n",
       "</style>\n",
       "<table border=\"1\" class=\"dataframe\">\n",
       "  <thead>\n",
       "    <tr style=\"text-align: right;\">\n",
       "      <th></th>\n",
       "      <th>children</th>\n",
       "      <th>days_employed</th>\n",
       "      <th>dob_years</th>\n",
       "      <th>education</th>\n",
       "      <th>education_id</th>\n",
       "      <th>family_status</th>\n",
       "      <th>family_status_id</th>\n",
       "      <th>gender</th>\n",
       "      <th>income_type</th>\n",
       "      <th>debt</th>\n",
       "      <th>total_income</th>\n",
       "      <th>purpose</th>\n",
       "    </tr>\n",
       "  </thead>\n",
       "  <tbody>\n",
       "  </tbody>\n",
       "</table>\n",
       "</div>"
      ],
      "text/plain": [
       "Empty DataFrame\n",
       "Columns: [children, days_employed, dob_years, education, education_id, family_status, family_status_id, gender, income_type, debt, total_income, purpose]\n",
       "Index: []"
      ]
     },
     "execution_count": 49,
     "metadata": {},
     "output_type": "execute_result"
    }
   ],
   "source": [
    "data[(data.days_employed>=0) & (data.days_employed<=14820)]"
   ]
  },
  {
   "cell_type": "markdown",
   "metadata": {},
   "source": [
    "Таких данных в таблице нет (таблица пустая). Отдельно посмотрим на данные тех строк, где стаж положительный и отдельно где отрицательный."
   ]
  },
  {
   "cell_type": "code",
   "execution_count": 50,
   "metadata": {},
   "outputs": [
    {
     "name": "stdout",
     "output_type": "stream",
     "text": [
      "Описательная статистика `days_employed` c отрицательными значениями:\n",
      "count    15,906.00\n",
      "mean     -2,353.02\n",
      "std       2,304.24\n",
      "min     -18,388.95\n",
      "25%      -3,157.48\n",
      "50%      -1,630.02\n",
      "75%        -756.37\n",
      "max         -24.14\n",
      "Name: days_employed, dtype: float64\n",
      "Значения, которые принимает столбец income_type при отрицательных значениях days_employed: ['сотрудник' 'компаньон' 'госслужащий' 'студент' 'предприниматель'\n",
      " 'в декрете']\n"
     ]
    }
   ],
   "source": [
    "df_days_empl_neg = data[(data.days_employed<0)] #slice dataframe - only negative days_employed\n",
    "print('Описательная статистика `days_employed` c отрицательными значениями:')\n",
    "print(df_days_empl_neg.days_employed.describe())\n",
    "print(f'Значения, которые принимает столбец income_type при отрицательных значениях days_employed: {df_days_empl_neg.income_type.unique()}')"
   ]
  },
  {
   "cell_type": "markdown",
   "metadata": {},
   "source": [
    " Наличие минуса в этих данных, скорее всего, техническая ошибка. Для решения отбросим минус."
   ]
  },
  {
   "cell_type": "code",
   "execution_count": 51,
   "metadata": {},
   "outputs": [
    {
     "name": "stdout",
     "output_type": "stream",
     "text": [
      "Описательная статистика `days_employed` c положительными значениями:\n",
      "count     3,445.00\n",
      "mean    365,004.31\n",
      "std      21,075.02\n",
      "min     328,728.72\n",
      "25%     346,639.41\n",
      "50%     365,213.31\n",
      "75%     383,246.44\n",
      "max     401,755.40\n",
      "Name: days_employed, dtype: float64\n",
      "Значения, которые принимает столбец income_type при положительных значениях days_employed: ['пенсионер' 'безработный']\n"
     ]
    }
   ],
   "source": [
    "df_days_empl_pos = data[(data.days_employed>=0)] #slice dataframe - only positive days_employed\n",
    "print('Описательная статистика `days_employed` c положительными значениями:')\n",
    "print(df_days_empl_pos.days_employed.describe())\n",
    "print(f'Значения, которые принимает столбец income_type при положительных значениях days_employed: {df_days_empl_pos.income_type.unique()}')"
   ]
  },
  {
   "cell_type": "markdown",
   "metadata": {},
   "source": [
    "Мы видим, что таких данных 3445 строк. Это данные только по пенсионерам и безработным. Все данные с ошибкой(значения нереально большие). Скорее всего, это техническая ошибка. Варианты решения:\n",
    " - обратится к составителю данных. Может именно для этих групп тип занятости подсчет трудового стажа дает ошибку.\n",
    "\n",
    "если нет такой возможности:\n",
    " - заменить на медианное значение для данного возраста и пола.\n",
    " - отбросить данные по этим типам занятости. Но тогда анализ будет не полноценным.\n",
    " \n",
    "В данной работе будем считать эти данные пропущенными и заменим их на NaN-values. Далее сгруппируем данные по полу и возрасту, а затем для каждой группы найдем медиану и присвоим ее пропускам из той же группы."
   ]
  },
  {
   "cell_type": "code",
   "execution_count": 52,
   "metadata": {},
   "outputs": [
    {
     "name": "stdout",
     "output_type": "stream",
     "text": [
      "Описательная статистика `days_employed` с nan-values:\n"
     ]
    },
    {
     "data": {
      "text/plain": [
       "count   15,906.00\n",
       "mean     2,353.02\n",
       "std      2,304.24\n",
       "min         24.14\n",
       "25%        756.37\n",
       "50%      1,630.02\n",
       "75%      3,157.48\n",
       "max     18,388.95\n",
       "Name: days_employed, dtype: float64"
      ]
     },
     "execution_count": 52,
     "metadata": {},
     "output_type": "execute_result"
    }
   ],
   "source": [
    "data.loc[data['days_employed']>0, 'days_employed'] = np.NaN #NaN values instead possitive\n",
    "data.loc[data['days_employed']<0, 'days_employed'] = abs(data.days_employed) #absolute value for negative\n",
    "print('Описательная статистика `days_employed` с nan-values:')\n",
    "data.days_employed.describe()"
   ]
  },
  {
   "cell_type": "markdown",
   "metadata": {},
   "source": [
    "Теперь в столбце `days_employed` имеем только положительные данные и nan-values. Пропусков 5619, что достаточно много для того что бы не обращать на них внимания и удалить их. Поэтому логично будет сгруппировать по полу и возрасту, а затем для каждой группы найти медиану и присвоить ее пропускам из той же группы. Если данных для вычисления медианы для какого-то конкретного возраста недостаточно, используем максимальное значение из медианных значений (недостаток данных наблюдается для пожилых клиентов, поскольку для пенсионеров у нас nan-values)."
   ]
  },
  {
   "cell_type": "code",
   "execution_count": 53,
   "metadata": {},
   "outputs": [
    {
     "name": "stdout",
     "output_type": "stream",
     "text": [
      "Описательная статистика `days_employed` без nan-values:\n"
     ]
    },
    {
     "data": {
      "text/plain": [
       "count   21,525.00\n",
       "mean     2,391.96\n",
       "std      2,041.76\n",
       "min         24.14\n",
       "25%        984.47\n",
       "50%      1,991.40\n",
       "75%      3,019.02\n",
       "max     18,388.95\n",
       "Name: days_employed, dtype: float64"
      ]
     },
     "execution_count": 53,
     "metadata": {},
     "output_type": "execute_result"
    }
   ],
   "source": [
    "table_days_empl = data.pivot_table(values = 'days_employed', index=['dob_years'], \n",
    "                                   columns = 'gender', aggfunc='median') #make pivot table with median value\n",
    "table_days_empl['M'] = table_days_empl['M'].fillna(table_days_empl['M'].max()) #fill nan-values in pivot_table\n",
    "def fill_nan_values(row): \n",
    "    \"\"\"\n",
    "    function return median value of days_employed\n",
    "    due to gender and age of a client, if there is nan-value of days_employed.\n",
    "    Else return initial value of days_employed\n",
    "    \"\"\"\n",
    "    if pd.isna(row.days_employed):\n",
    "        return table_days_empl.loc[row.dob_years, row.gender]\n",
    "    else:\n",
    "        return row.days_employed\n",
    "data['days_employed'] = data.apply(fill_nan_values, axis = 1) #fill nan-values\n",
    "print('Описательная статистика `days_employed` без nan-values:')\n",
    "data.days_employed.describe()\n"
   ]
  },
  {
   "cell_type": "markdown",
   "metadata": {},
   "source": [
    "<a name='total_income'></a>\n",
    "#### Столбец `total_income`"
   ]
  },
  {
   "cell_type": "code",
   "execution_count": 54,
   "metadata": {},
   "outputs": [
    {
     "name": "stdout",
     "output_type": "stream",
     "text": [
      "Описательная статистика `total_income`:\n"
     ]
    },
    {
     "data": {
      "text/plain": [
       "count      19,351.00\n",
       "mean      167,422.30\n",
       "std       102,971.57\n",
       "min        20,667.26\n",
       "25%       103,053.15\n",
       "50%       145,017.94\n",
       "75%       203,435.07\n",
       "max     2,265,604.03\n",
       "Name: total_income, dtype: float64"
      ]
     },
     "execution_count": 54,
     "metadata": {},
     "output_type": "execute_result"
    }
   ],
   "source": [
    "pd.options.display.float_format ='{:,.2f}'.format\n",
    "print('Описательная статистика `total_income`:')\n",
    "data.total_income.describe()"
   ]
  },
  {
   "cell_type": "markdown",
   "metadata": {},
   "source": [
    " Имеем пропуски в этом столбце. Аналогично предыдущему столбцу, заполним пропуски медианным значением основываясь на возраст и гендер."
   ]
  },
  {
   "cell_type": "code",
   "execution_count": 55,
   "metadata": {},
   "outputs": [
    {
     "name": "stdout",
     "output_type": "stream",
     "text": [
      "Описательная статистика `total_income` после заполнения nan-values:\n"
     ]
    },
    {
     "data": {
      "text/plain": [
       "count      21,525.00\n",
       "mean      165,142.81\n",
       "std        98,065.54\n",
       "min        20,667.26\n",
       "25%       107,485.65\n",
       "50%       143,369.41\n",
       "75%       195,543.62\n",
       "max     2,265,604.03\n",
       "Name: total_income, dtype: float64"
      ]
     },
     "execution_count": 55,
     "metadata": {},
     "output_type": "execute_result"
    }
   ],
   "source": [
    "table_total_income = data.pivot_table(values = 'total_income', index=['dob_years'], columns = 'gender', aggfunc='median') #make pivot table with median value\n",
    "table_total_income['M'] = table_total_income['M'].fillna(table_total_income['M'].mean()) #fill nan-values in pivot_table\n",
    "def fill_nan_values2(row):\n",
    "    \"\"\"\n",
    "    function return median value of total_income\n",
    "    due to gender and age of a client, if there is nan-value of total_income.\n",
    "    Else return initial value of total_income\n",
    "    \"\"\"\n",
    "    if pd.isna(row.total_income):\n",
    "        return table_total_income.loc[row.dob_years, row.gender]\n",
    "    else:\n",
    "        return row.total_income\n",
    "data['total_income'] = data.apply(fill_nan_values2, axis = 1)\n",
    "print('Описательная статистика `total_income` после заполнения nan-values:')\n",
    "data.total_income.describe()"
   ]
  },
  {
   "cell_type": "markdown",
   "metadata": {},
   "source": [
    "<a name='education'></a>\n",
    "#### Столбец `education` и `education_id`"
   ]
  },
  {
   "cell_type": "code",
   "execution_count": 56,
   "metadata": {},
   "outputs": [
    {
     "name": "stdout",
     "output_type": "stream",
     "text": [
      "['высшее' 'среднее' 'Среднее' 'СРЕДНЕЕ' 'ВЫСШЕЕ' 'неоконченное высшее'\n",
      " 'начальное' 'Высшее' 'НЕОКОНЧЕННОЕ ВЫСШЕЕ' 'Неоконченное высшее'\n",
      " 'НАЧАЛЬНОЕ' 'Начальное' 'Ученая степень' 'УЧЕНАЯ СТЕПЕНЬ'\n",
      " 'ученая степень']\n"
     ]
    }
   ],
   "source": [
    "print(data.education.unique()) "
   ]
  },
  {
   "cell_type": "markdown",
   "metadata": {},
   "source": [
    "Строковые значения в верхнем и нижнем регистре. Заменим все на нижний."
   ]
  },
  {
   "cell_type": "code",
   "execution_count": 57,
   "metadata": {},
   "outputs": [
    {
     "name": "stdout",
     "output_type": "stream",
     "text": [
      "['высшее' 'среднее' 'неоконченное высшее' 'начальное' 'ученая степень']\n"
     ]
    }
   ],
   "source": [
    "data['education'] = data.education.str.lower() #convert to lower case\n",
    "print(data.education.unique()) "
   ]
  },
  {
   "cell_type": "code",
   "execution_count": 58,
   "metadata": {},
   "outputs": [
    {
     "name": "stdout",
     "output_type": "stream",
     "text": [
      "[0 1 2 3 4]\n"
     ]
    }
   ],
   "source": [
    "print(data.education_id.unique()) "
   ]
  },
  {
   "cell_type": "markdown",
   "metadata": {},
   "source": [
    "Теперь количество уникальных значений этих столбцов совпадает."
   ]
  },
  {
   "cell_type": "markdown",
   "metadata": {},
   "source": [
    "<a name='family_status'></a>\n",
    "#### Столбцы `family_status`  и `family_status_id`"
   ]
  },
  {
   "cell_type": "code",
   "execution_count": 59,
   "metadata": {},
   "outputs": [
    {
     "name": "stdout",
     "output_type": "stream",
     "text": [
      "['женат / замужем' 'гражданский брак' 'вдовец / вдова' 'в разводе'\n",
      " 'Не женат / не замужем']\n",
      "[0 1 2 3 4]\n"
     ]
    }
   ],
   "source": [
    "print(data.family_status.unique())\n",
    "print(data.family_status_id.unique())"
   ]
  },
  {
   "cell_type": "code",
   "execution_count": 60,
   "metadata": {},
   "outputs": [
    {
     "name": "stdout",
     "output_type": "stream",
     "text": [
      "['женат / замужем' 'гражданский брак' 'вдовец / вдова' 'в разводе'\n",
      " 'не женат / не замужем']\n"
     ]
    }
   ],
   "source": [
    "data['family_status'] = data.family_status.str.lower() #convert to lower case\n",
    "print(data.family_status.unique())"
   ]
  },
  {
   "cell_type": "markdown",
   "metadata": {},
   "source": [
    "Перевели все названия категорий в нижний регистр. для порядка."
   ]
  },
  {
   "cell_type": "markdown",
   "metadata": {},
   "source": [
    "<a name='gender'></a>\n",
    "#### Столбец `gender`"
   ]
  },
  {
   "cell_type": "code",
   "execution_count": 61,
   "metadata": {},
   "outputs": [
    {
     "data": {
      "text/plain": [
       "F      14236\n",
       "M       7288\n",
       "XNA        1\n",
       "Name: gender, dtype: int64"
      ]
     },
     "execution_count": 61,
     "metadata": {},
     "output_type": "execute_result"
    }
   ],
   "source": [
    "data.gender.value_counts()"
   ]
  },
  {
   "cell_type": "markdown",
   "metadata": {},
   "source": [
    "Как видно из таблицы выше, только один человек имеет этот гендер. Можно убрать этоу строку и тогда у нас будет только 2 уникальных значения гендера. Но можно и оставить, на данном этапе анализа эта строка совсем не мешается."
   ]
  },
  {
   "cell_type": "markdown",
   "metadata": {},
   "source": [
    "<a name='income_type'></a>\n",
    "#### Столбец `income_type`"
   ]
  },
  {
   "cell_type": "code",
   "execution_count": 62,
   "metadata": {},
   "outputs": [
    {
     "data": {
      "text/plain": [
       "сотрудник          11119\n",
       "компаньон           5085\n",
       "пенсионер           3856\n",
       "госслужащий         1459\n",
       "предприниматель        2\n",
       "безработный            2\n",
       "студент                1\n",
       "в декрете              1\n",
       "Name: income_type, dtype: int64"
      ]
     },
     "execution_count": 62,
     "metadata": {},
     "output_type": "execute_result"
    }
   ],
   "source": [
    "data.income_type.value_counts()"
   ]
  },
  {
   "cell_type": "markdown",
   "metadata": {},
   "source": [
    "Если для дальнейшего анализа нам потребуется этот столбец, мне кажется, лучше убрать малочисленные категории: безработный, предприниматель, в декрете, студент."
   ]
  },
  {
   "cell_type": "markdown",
   "metadata": {},
   "source": [
    "<a name='debt'></a>\n",
    "#### Столбец `debt `"
   ]
  },
  {
   "cell_type": "code",
   "execution_count": 63,
   "metadata": {},
   "outputs": [
    {
     "data": {
      "text/plain": [
       "0    19784\n",
       "1     1741\n",
       "Name: debt, dtype: int64"
      ]
     },
     "execution_count": 63,
     "metadata": {},
     "output_type": "execute_result"
    }
   ],
   "source": [
    "data.debt.value_counts()"
   ]
  },
  {
   "cell_type": "markdown",
   "metadata": {},
   "source": [
    "8.8% клиентов имеют задолжности по возврату кредитов."
   ]
  },
  {
   "cell_type": "markdown",
   "metadata": {},
   "source": [
    "<a name='purpose'></a>\n",
    "#### Столбец `purpose`"
   ]
  },
  {
   "cell_type": "code",
   "execution_count": 64,
   "metadata": {
    "scrolled": true
   },
   "outputs": [
    {
     "name": "stdout",
     "output_type": "stream",
     "text": [
      "Уникальные значения столбца `purpose`:\n",
      "['покупка жилья' 'приобретение автомобиля' 'дополнительное образование'\n",
      " 'сыграть свадьбу' 'операции с жильем' 'образование'\n",
      " 'на проведение свадьбы' 'покупка жилья для семьи' 'покупка недвижимости'\n",
      " 'покупка коммерческой недвижимости' 'покупка жилой недвижимости'\n",
      " 'строительство собственной недвижимости' 'недвижимость'\n",
      " 'строительство недвижимости' 'на покупку подержанного автомобиля'\n",
      " 'на покупку своего автомобиля' 'операции с коммерческой недвижимостью'\n",
      " 'строительство жилой недвижимости' 'жилье'\n",
      " 'операции со своей недвижимостью' 'автомобили' 'заняться образованием'\n",
      " 'сделка с подержанным автомобилем' 'получение образования' 'автомобиль'\n",
      " 'свадьба' 'получение дополнительного образования' 'покупка своего жилья'\n",
      " 'операции с недвижимостью' 'получение высшего образования'\n",
      " 'свой автомобиль' 'сделка с автомобилем' 'профильное образование'\n",
      " 'высшее образование' 'покупка жилья для сдачи' 'на покупку автомобиля'\n",
      " 'ремонт жилью' 'заняться высшим образованием']\n"
     ]
    }
   ],
   "source": [
    "print('Уникальные значения столбца `purpose`:')\n",
    "print(data.purpose.unique())"
   ]
  },
  {
   "cell_type": "markdown",
   "metadata": {},
   "source": [
    "Видим, что многие цели получения кредита совпадают, хотя записаны по разному. Видимо у операторов вводивших эти данные не было четких инструкций, как должно это выглядеть в данных. Например: цели - 'cыграть свадьбу', 'на проведение свадьбы', 'свадьба' по сути одно и то же. Необходимо их объединить под одним названием. Для этого используем лемматизацию."
   ]
  },
  {
   "cell_type": "code",
   "execution_count": 65,
   "metadata": {},
   "outputs": [
    {
     "name": "stdout",
     "output_type": "stream",
     "text": [
      "Counter({'покупка': 10, 'недвижимость': 10, 'автомобиль': 9, 'образование': 9, 'жильё': 7, 'операция': 4, 'свой': 4, 'свадьба': 3, 'строительство': 3, 'получение': 3, 'высокий': 3, 'дополнительный': 2, 'коммерческий': 2, 'жилой': 2, 'подержать': 2, 'заняться': 2, 'сделка': 2, 'приобретение': 1, 'сыграть': 1, 'проведение': 1, 'семья': 1, 'собственный': 1, 'профильный': 1, 'сдача': 1, 'ремонт': 1})\n"
     ]
    }
   ],
   "source": [
    "morph = pymorphy2.MorphAnalyzer() #create lemmatizer stopwords list\n",
    "russian_stopwords = stopwords.words(\"russian\") #create stopwords list\n",
    "\n",
    "def lemmatize(text): #function of lemmatizing\n",
    "    words = text.split() # split text to words\n",
    "    res = []\n",
    "    for word in words:\n",
    "        if word not in russian_stopwords: #exclude stopwords\n",
    "            p = morph.parse(word)[0] #find dictionary form of a word\n",
    "            res.append(p.normal_form) \n",
    "    return res \n",
    "\n",
    "lemmas = []\n",
    "for purpose in data.purpose.unique():\n",
    "    lemma = lemmatize(purpose)\n",
    "    lemmas += lemma\n",
    "print(Counter(lemmas)) #counting the number of mentions of words in purposes"
   ]
  },
  {
   "cell_type": "markdown",
   "metadata": {},
   "source": [
    "Используя подсчет числа лемм в целях получения кредита, составим вручную список целей `purpose_list`, подходящих для категоризации.\n",
    "\n",
    "Далее объединим категории в соответствии с этим списком."
   ]
  },
  {
   "cell_type": "code",
   "execution_count": 66,
   "metadata": {},
   "outputs": [
    {
     "data": {
      "text/plain": [
       "недвижимость     4486\n",
       "автомобиль       4315\n",
       "образование      4022\n",
       "жильё            3861\n",
       "свадьба          2348\n",
       "строительство    1881\n",
       "ремонт            612\n",
       "Name: purpose_cat, dtype: int64"
      ]
     },
     "execution_count": 66,
     "metadata": {},
     "output_type": "execute_result"
    }
   ],
   "source": [
    "purpose_list = ['образование','свадьба','недвижимость','автомобиль','жильё','строительство','ремонт']\n",
    "\n",
    "def find_word(text): #function that return word from text if it is in purpose_list\n",
    "    for word in lemmatize(text):\n",
    "        if word in purpose_list:\n",
    "            return word\n",
    "        \n",
    "dict = {} #create a dictionary that relates purposes and word in purpose_list\n",
    "for purpose in data.purpose.unique():\n",
    "    dict[purpose] = find_word(purpose)\n",
    "    \n",
    "data['purpose_cat'] = data['purpose'].map(dict) #create a column based on dictionary values\n",
    "data.purpose_cat.value_counts()\n"
   ]
  },
  {
   "cell_type": "markdown",
   "metadata": {},
   "source": [
    "<a name='типы данных'></a>\n",
    "### Замена типов данных"
   ]
  },
  {
   "cell_type": "markdown",
   "metadata": {},
   "source": [
    "Стоит привести целочисленные значения к типу int, а не оставлять во float, так как int почти повсеместно более эффективен."
   ]
  },
  {
   "cell_type": "code",
   "execution_count": 67,
   "metadata": {},
   "outputs": [
    {
     "data": {
      "text/html": [
       "<div>\n",
       "<style scoped>\n",
       "    .dataframe tbody tr th:only-of-type {\n",
       "        vertical-align: middle;\n",
       "    }\n",
       "\n",
       "    .dataframe tbody tr th {\n",
       "        vertical-align: top;\n",
       "    }\n",
       "\n",
       "    .dataframe thead th {\n",
       "        text-align: right;\n",
       "    }\n",
       "</style>\n",
       "<table border=\"1\" class=\"dataframe\">\n",
       "  <thead>\n",
       "    <tr style=\"text-align: right;\">\n",
       "      <th></th>\n",
       "      <th>children</th>\n",
       "      <th>days_employed</th>\n",
       "      <th>dob_years</th>\n",
       "      <th>education</th>\n",
       "      <th>education_id</th>\n",
       "      <th>family_status</th>\n",
       "      <th>family_status_id</th>\n",
       "      <th>gender</th>\n",
       "      <th>income_type</th>\n",
       "      <th>debt</th>\n",
       "      <th>total_income</th>\n",
       "      <th>purpose</th>\n",
       "      <th>purpose_cat</th>\n",
       "    </tr>\n",
       "  </thead>\n",
       "  <tbody>\n",
       "    <tr>\n",
       "      <th>0</th>\n",
       "      <td>1</td>\n",
       "      <td>8437</td>\n",
       "      <td>42</td>\n",
       "      <td>высшее</td>\n",
       "      <td>0</td>\n",
       "      <td>женат / замужем</td>\n",
       "      <td>0</td>\n",
       "      <td>F</td>\n",
       "      <td>сотрудник</td>\n",
       "      <td>0</td>\n",
       "      <td>253875</td>\n",
       "      <td>покупка жилья</td>\n",
       "      <td>жильё</td>\n",
       "    </tr>\n",
       "    <tr>\n",
       "      <th>1</th>\n",
       "      <td>1</td>\n",
       "      <td>4024</td>\n",
       "      <td>36</td>\n",
       "      <td>среднее</td>\n",
       "      <td>1</td>\n",
       "      <td>женат / замужем</td>\n",
       "      <td>0</td>\n",
       "      <td>F</td>\n",
       "      <td>сотрудник</td>\n",
       "      <td>0</td>\n",
       "      <td>112080</td>\n",
       "      <td>приобретение автомобиля</td>\n",
       "      <td>автомобиль</td>\n",
       "    </tr>\n",
       "    <tr>\n",
       "      <th>2</th>\n",
       "      <td>0</td>\n",
       "      <td>5623</td>\n",
       "      <td>33</td>\n",
       "      <td>среднее</td>\n",
       "      <td>1</td>\n",
       "      <td>женат / замужем</td>\n",
       "      <td>0</td>\n",
       "      <td>M</td>\n",
       "      <td>сотрудник</td>\n",
       "      <td>0</td>\n",
       "      <td>145885</td>\n",
       "      <td>покупка жилья</td>\n",
       "      <td>жильё</td>\n",
       "    </tr>\n",
       "    <tr>\n",
       "      <th>3</th>\n",
       "      <td>3</td>\n",
       "      <td>4124</td>\n",
       "      <td>32</td>\n",
       "      <td>среднее</td>\n",
       "      <td>1</td>\n",
       "      <td>женат / замужем</td>\n",
       "      <td>0</td>\n",
       "      <td>M</td>\n",
       "      <td>сотрудник</td>\n",
       "      <td>0</td>\n",
       "      <td>267628</td>\n",
       "      <td>дополнительное образование</td>\n",
       "      <td>образование</td>\n",
       "    </tr>\n",
       "    <tr>\n",
       "      <th>4</th>\n",
       "      <td>0</td>\n",
       "      <td>2575</td>\n",
       "      <td>53</td>\n",
       "      <td>среднее</td>\n",
       "      <td>1</td>\n",
       "      <td>гражданский брак</td>\n",
       "      <td>1</td>\n",
       "      <td>F</td>\n",
       "      <td>пенсионер</td>\n",
       "      <td>0</td>\n",
       "      <td>158616</td>\n",
       "      <td>сыграть свадьбу</td>\n",
       "      <td>свадьба</td>\n",
       "    </tr>\n",
       "  </tbody>\n",
       "</table>\n",
       "</div>"
      ],
      "text/plain": [
       "   children  days_employed  dob_years education  education_id  \\\n",
       "0         1           8437         42    высшее             0   \n",
       "1         1           4024         36   среднее             1   \n",
       "2         0           5623         33   среднее             1   \n",
       "3         3           4124         32   среднее             1   \n",
       "4         0           2575         53   среднее             1   \n",
       "\n",
       "      family_status  family_status_id gender income_type  debt  total_income  \\\n",
       "0   женат / замужем                 0      F   сотрудник     0        253875   \n",
       "1   женат / замужем                 0      F   сотрудник     0        112080   \n",
       "2   женат / замужем                 0      M   сотрудник     0        145885   \n",
       "3   женат / замужем                 0      M   сотрудник     0        267628   \n",
       "4  гражданский брак                 1      F   пенсионер     0        158616   \n",
       "\n",
       "                      purpose  purpose_cat  \n",
       "0               покупка жилья        жильё  \n",
       "1     приобретение автомобиля   автомобиль  \n",
       "2               покупка жилья        жильё  \n",
       "3  дополнительное образование  образование  \n",
       "4             сыграть свадьбу      свадьба  "
      ]
     },
     "execution_count": 67,
     "metadata": {},
     "output_type": "execute_result"
    }
   ],
   "source": [
    "data = data.astype({'days_employed':'int', 'dob_years':'int', 'total_income':'int'})\n",
    "data.head()"
   ]
  },
  {
   "cell_type": "markdown",
   "metadata": {},
   "source": [
    "Итак, данные приведены в порядок. Проведем теперь нужную категоризацию данных, необходимую для ответов на поставленные задачи."
   ]
  },
  {
   "cell_type": "markdown",
   "metadata": {},
   "source": [
    "<a name='категоризация'></a>\n",
    "### Категоризация данных"
   ]
  },
  {
   "cell_type": "markdown",
   "metadata": {},
   "source": [
    "Для начала категоризируем столбец `children`. создадин новый столбец `children_cat`, в котором будут 3 категории: нет детей, 1-2 детей и многодетные."
   ]
  },
  {
   "cell_type": "code",
   "execution_count": 68,
   "metadata": {},
   "outputs": [],
   "source": [
    "data['children_cat'] = data.children.apply(lambda x: 'нет детей' if x==0 else '1-2 детей' if (x==1)or(x==2) else 'многодетные') #categorizing column `children`"
   ]
  },
  {
   "cell_type": "markdown",
   "metadata": {},
   "source": [
    "Теперь перейдем к категоризации ежемесячного дохода. Для начала посмотрим описательную статистику этой переменной. Будем проводить категоризацию в соответствии с квартилями. Квартили — значения, которые делят таблицу данных на четыре группы, содержащие приблизительно равное количество наблюдений. Поэтому получим 4 группы заработной платы: \n",
    " - низкая - будет соответствовать данным из 1 квартиля, \n",
    " - ниже среднего - 2 квартиль, \n",
    " - выше среднего - 3 квартиль,\n",
    " - высокая - 4 квартиль."
   ]
  },
  {
   "cell_type": "code",
   "execution_count": 69,
   "metadata": {},
   "outputs": [
    {
     "data": {
      "text/plain": [
       "count      21,525.00\n",
       "mean      165,142.30\n",
       "std        98,065.54\n",
       "min        20,667.00\n",
       "25%       107,485.00\n",
       "50%       143,369.00\n",
       "75%       195,543.00\n",
       "max     2,265,604.00\n",
       "Name: total_income, dtype: float64"
      ]
     },
     "execution_count": 69,
     "metadata": {},
     "output_type": "execute_result"
    }
   ],
   "source": [
    "data.total_income.describe()"
   ]
  },
  {
   "cell_type": "code",
   "execution_count": 70,
   "metadata": {},
   "outputs": [],
   "source": [
    "def categorize_total_income(income): #function for categorizing `total_income`\n",
    "    if income<=100000:\n",
    "        return 'низкая'\n",
    "    elif 100000<income<=150000:\n",
    "        return 'ниже среднего'\n",
    "    elif 150000<income<=200000:\n",
    "        return 'выше среднего'\n",
    "    else:\n",
    "        return 'высокая'\n",
    "    \n",
    "data['total_income_cat'] = data['total_income'].apply(categorize_total_income)"
   ]
  },
  {
   "cell_type": "markdown",
   "metadata": {},
   "source": [
    "Данные по семейному положению оставим без изменений."
   ]
  },
  {
   "cell_type": "code",
   "execution_count": 71,
   "metadata": {},
   "outputs": [
    {
     "data": {
      "text/plain": [
       "женат / замужем          12380\n",
       "гражданский брак          4177\n",
       "не женат / не замужем     2813\n",
       "в разводе                 1195\n",
       "вдовец / вдова             960\n",
       "Name: family_status, dtype: int64"
      ]
     },
     "execution_count": 71,
     "metadata": {},
     "output_type": "execute_result"
    }
   ],
   "source": [
    "data.family_status.value_counts()"
   ]
  },
  {
   "cell_type": "markdown",
   "metadata": {},
   "source": [
    "Изменим тип данных для `children_cat` и `total_income_cat`, чтобы данные выводились в определенном порядке."
   ]
  },
  {
   "cell_type": "code",
   "execution_count": 72,
   "metadata": {},
   "outputs": [],
   "source": [
    "data = data.astype({'children_cat' : pd.CategoricalDtype(['нет детей', '1-2 детей', 'многодетные'], ordered = True)},\n",
    "                  {'total_income_cat' : pd.CategoricalDtype(['низкая', 'ниже среднего', 'выше среднего', 'высокая'], ordered = True)})"
   ]
  },
  {
   "cell_type": "markdown",
   "metadata": {},
   "source": [
    "### **Вывод**"
   ]
  },
  {
   "cell_type": "markdown",
   "metadata": {},
   "source": [
    "Итак, мы закончили пердобработку данных. \n",
    "\n",
    "- Было сделано предположение, что дубликаты не являются испорченными данными, а представляют разных клиентов с одиниковыми характеристиками.\n",
    "\n",
    "    В [обработке дубликатов](#дубликаты) это подробно описыватся. Поэтому эти данные были оставлены в датасете.\n",
    "    \n",
    "- В таблице данных найдены артефакты и пропуски. Для того чтобы исправить данные и заполнить пропуски был рассмотрен каждый столбец в отдельности:\n",
    "    * для столбцов [`gender`](#gender), [`debt`](#debt), [`income_type`](#income_type), [`family_status`](#family_status) не потребовалась корректировка данных.\n",
    "    * в столбцах [`children`](#children), [`dob_years`](#dob_years), [`education`](#education)  были найдены и исправлены небольшие недочеты.\n",
    "    * столбцы [`days_employed`](#days_employed), [`total_income`](#total_income) больше всех нуждались в предобработке, так как именно они содержали множество некорректных данных и пропусков.\n",
    "    * для столбца [`purpose`](#purpose) потребовалась лемматизация.\n",
    "    \n",
    "- Для характеристик, необходимых для дальнейшего анализа в рамках этой работы была проведена [категоризация данных](#категоризация).\n",
    "\n",
    "\n",
    "Теперь нужно разобраться влияет ли какая-то категория на вероятность задолженности по кредиту и ответить на вопросы сформулированные в начале."
   ]
  },
  {
   "cell_type": "markdown",
   "metadata": {},
   "source": [
    "## 3. Проверка гипотез"
   ]
  },
  {
   "cell_type": "markdown",
   "metadata": {},
   "source": [
    "Для каждого вопроса создадим сводную таблицу с выводом процентов, которые показывают вероятность стать должником у клиента принадлежащего к определенной категоризированной группе."
   ]
  },
  {
   "cell_type": "markdown",
   "metadata": {},
   "source": [
    "#### Есть ли зависимость между наличием детей и возвратом кредита в срок?"
   ]
  },
  {
   "cell_type": "code",
   "execution_count": 73,
   "metadata": {},
   "outputs": [
    {
     "name": "stdout",
     "output_type": "stream",
     "text": [
      "Сводная таблица: children_cat и debt\n"
     ]
    },
    {
     "data": {
      "text/html": [
       "<div>\n",
       "<style scoped>\n",
       "    .dataframe tbody tr th:only-of-type {\n",
       "        vertical-align: middle;\n",
       "    }\n",
       "\n",
       "    .dataframe tbody tr th {\n",
       "        vertical-align: top;\n",
       "    }\n",
       "\n",
       "    .dataframe thead tr th {\n",
       "        text-align: left;\n",
       "    }\n",
       "\n",
       "    .dataframe thead tr:last-of-type th {\n",
       "        text-align: right;\n",
       "    }\n",
       "</style>\n",
       "<table border=\"1\" class=\"dataframe\">\n",
       "  <thead>\n",
       "    <tr>\n",
       "      <th></th>\n",
       "      <th colspan=\"2\" halign=\"left\">debt_count</th>\n",
       "      <th colspan=\"2\" halign=\"left\">debt_count%</th>\n",
       "    </tr>\n",
       "    <tr>\n",
       "      <th>debt</th>\n",
       "      <th>0</th>\n",
       "      <th>1</th>\n",
       "      <th>0</th>\n",
       "      <th>1</th>\n",
       "    </tr>\n",
       "    <tr>\n",
       "      <th>children_cat</th>\n",
       "      <th></th>\n",
       "      <th></th>\n",
       "      <th></th>\n",
       "      <th></th>\n",
       "    </tr>\n",
       "  </thead>\n",
       "  <tbody>\n",
       "    <tr>\n",
       "      <th>нет детей</th>\n",
       "      <td>13086</td>\n",
       "      <td>1063</td>\n",
       "      <td>92.49</td>\n",
       "      <td>7.51</td>\n",
       "    </tr>\n",
       "    <tr>\n",
       "      <th>1-2 детей</th>\n",
       "      <td>6281</td>\n",
       "      <td>639</td>\n",
       "      <td>90.77</td>\n",
       "      <td>9.23</td>\n",
       "    </tr>\n",
       "    <tr>\n",
       "      <th>многодетные</th>\n",
       "      <td>417</td>\n",
       "      <td>39</td>\n",
       "      <td>91.45</td>\n",
       "      <td>8.55</td>\n",
       "    </tr>\n",
       "  </tbody>\n",
       "</table>\n",
       "</div>"
      ],
      "text/plain": [
       "             debt_count       debt_count%     \n",
       "debt                  0     1           0    1\n",
       "children_cat                                  \n",
       "нет детей         13086  1063       92.49 7.51\n",
       "1-2 детей          6281   639       90.77 9.23\n",
       "многодетные         417    39       91.45 8.55"
      ]
     },
     "execution_count": 73,
     "metadata": {},
     "output_type": "execute_result"
    }
   ],
   "source": [
    "def create_pivot_table(col1, col2 = 'debt'):\n",
    "    \"\"\"\n",
    "    function that return pivot table with percertages\n",
    "    taking as input 2 columns from dataframe:\n",
    "        col1 any categorical, col2 = 'debt' by default\n",
    "    aggregating function = count\n",
    "    \"\"\"\n",
    "    table = data.groupby([col1, col2]).agg({col2: ['count']}) #create pivot table\n",
    "    table.columns = table.columns.map('_'.join) #convert MultiIndex to Index\n",
    "    index = table.columns.item()\n",
    "    table.reset_index()\n",
    "    table[index+'%'] = table[index]*100/table.groupby(col1)[index].sum() #add percentages\n",
    "    print(f'Сводная таблица: {col1} и {col2}')\n",
    "    return table.unstack()\n",
    "\n",
    "create_pivot_table('children_cat')\n",
    "\n"
   ]
  },
  {
   "cell_type": "markdown",
   "metadata": {},
   "source": [
    "Клиенты с детьми чаще имеют задолжность по кредитам(9.2% у клиентов имеющих 1-2 детей, 8.6% у многодетных). \n",
    "\n",
    "Но нельзя сказать, что чем детей больше, тем вероятность задолжности возрастает.\n",
    "\n",
    "Наверное, эти данные говорят о том, что клиентам без детей  все таки легче выплачивать кредит, а у многодетных клиентов возрастает ответственность."
   ]
  },
  {
   "cell_type": "markdown",
   "metadata": {},
   "source": [
    "#### Есть ли зависимость между семейным положением и возвратом кредита в срок?"
   ]
  },
  {
   "cell_type": "code",
   "execution_count": 74,
   "metadata": {},
   "outputs": [
    {
     "name": "stdout",
     "output_type": "stream",
     "text": [
      "Сводная таблица: family_status и debt\n"
     ]
    },
    {
     "data": {
      "text/html": [
       "<div>\n",
       "<style scoped>\n",
       "    .dataframe tbody tr th:only-of-type {\n",
       "        vertical-align: middle;\n",
       "    }\n",
       "\n",
       "    .dataframe tbody tr th {\n",
       "        vertical-align: top;\n",
       "    }\n",
       "\n",
       "    .dataframe thead tr th {\n",
       "        text-align: left;\n",
       "    }\n",
       "\n",
       "    .dataframe thead tr:last-of-type th {\n",
       "        text-align: right;\n",
       "    }\n",
       "</style>\n",
       "<table border=\"1\" class=\"dataframe\">\n",
       "  <thead>\n",
       "    <tr>\n",
       "      <th></th>\n",
       "      <th colspan=\"2\" halign=\"left\">debt_count</th>\n",
       "      <th colspan=\"2\" halign=\"left\">debt_count%</th>\n",
       "    </tr>\n",
       "    <tr>\n",
       "      <th>debt</th>\n",
       "      <th>0</th>\n",
       "      <th>1</th>\n",
       "      <th>0</th>\n",
       "      <th>1</th>\n",
       "    </tr>\n",
       "    <tr>\n",
       "      <th>family_status</th>\n",
       "      <th></th>\n",
       "      <th></th>\n",
       "      <th></th>\n",
       "      <th></th>\n",
       "    </tr>\n",
       "  </thead>\n",
       "  <tbody>\n",
       "    <tr>\n",
       "      <th>в разводе</th>\n",
       "      <td>1110</td>\n",
       "      <td>85</td>\n",
       "      <td>92.89</td>\n",
       "      <td>7.11</td>\n",
       "    </tr>\n",
       "    <tr>\n",
       "      <th>вдовец / вдова</th>\n",
       "      <td>897</td>\n",
       "      <td>63</td>\n",
       "      <td>93.44</td>\n",
       "      <td>6.56</td>\n",
       "    </tr>\n",
       "    <tr>\n",
       "      <th>гражданский брак</th>\n",
       "      <td>3789</td>\n",
       "      <td>388</td>\n",
       "      <td>90.71</td>\n",
       "      <td>9.29</td>\n",
       "    </tr>\n",
       "    <tr>\n",
       "      <th>женат / замужем</th>\n",
       "      <td>11449</td>\n",
       "      <td>931</td>\n",
       "      <td>92.48</td>\n",
       "      <td>7.52</td>\n",
       "    </tr>\n",
       "    <tr>\n",
       "      <th>не женат / не замужем</th>\n",
       "      <td>2539</td>\n",
       "      <td>274</td>\n",
       "      <td>90.26</td>\n",
       "      <td>9.74</td>\n",
       "    </tr>\n",
       "  </tbody>\n",
       "</table>\n",
       "</div>"
      ],
      "text/plain": [
       "                      debt_count      debt_count%     \n",
       "debt                           0    1           0    1\n",
       "family_status                                         \n",
       "в разводе                   1110   85       92.89 7.11\n",
       "вдовец / вдова               897   63       93.44 6.56\n",
       "гражданский брак            3789  388       90.71 9.29\n",
       "женат / замужем            11449  931       92.48 7.52\n",
       "не женат / не замужем       2539  274       90.26 9.74"
      ]
     },
     "execution_count": 74,
     "metadata": {},
     "output_type": "execute_result"
    }
   ],
   "source": [
    "create_pivot_table('family_status')"
   ]
  },
  {
   "cell_type": "markdown",
   "metadata": {},
   "source": [
    "Клиенты, не состоящие в браке, а также клиенты состоящие в гражданском браке наиболее склонны к задержке выплат по кредиту (9.7% и 9.3% имеют задолжности).\n",
    "\n",
    "Самые ответственные по выплатам - вдовцы (6.5% имеют задолжности)."
   ]
  },
  {
   "cell_type": "markdown",
   "metadata": {},
   "source": [
    "#### Есть ли зависимость между уровнем дохода и возвратом кредита в срок?"
   ]
  },
  {
   "cell_type": "code",
   "execution_count": 75,
   "metadata": {},
   "outputs": [
    {
     "name": "stdout",
     "output_type": "stream",
     "text": [
      "Сводная таблица: total_income_cat и debt\n"
     ]
    },
    {
     "data": {
      "text/html": [
       "<div>\n",
       "<style scoped>\n",
       "    .dataframe tbody tr th:only-of-type {\n",
       "        vertical-align: middle;\n",
       "    }\n",
       "\n",
       "    .dataframe tbody tr th {\n",
       "        vertical-align: top;\n",
       "    }\n",
       "\n",
       "    .dataframe thead tr th {\n",
       "        text-align: left;\n",
       "    }\n",
       "\n",
       "    .dataframe thead tr:last-of-type th {\n",
       "        text-align: right;\n",
       "    }\n",
       "</style>\n",
       "<table border=\"1\" class=\"dataframe\">\n",
       "  <thead>\n",
       "    <tr>\n",
       "      <th></th>\n",
       "      <th colspan=\"2\" halign=\"left\">debt_count</th>\n",
       "      <th colspan=\"2\" halign=\"left\">debt_count%</th>\n",
       "    </tr>\n",
       "    <tr>\n",
       "      <th>debt</th>\n",
       "      <th>0</th>\n",
       "      <th>1</th>\n",
       "      <th>0</th>\n",
       "      <th>1</th>\n",
       "    </tr>\n",
       "    <tr>\n",
       "      <th>total_income_cat</th>\n",
       "      <th></th>\n",
       "      <th></th>\n",
       "      <th></th>\n",
       "      <th></th>\n",
       "    </tr>\n",
       "  </thead>\n",
       "  <tbody>\n",
       "    <tr>\n",
       "      <th>высокая</th>\n",
       "      <td>4708</td>\n",
       "      <td>358</td>\n",
       "      <td>92.93</td>\n",
       "      <td>7.07</td>\n",
       "    </tr>\n",
       "    <tr>\n",
       "      <th>выше среднего</th>\n",
       "      <td>4308</td>\n",
       "      <td>436</td>\n",
       "      <td>90.81</td>\n",
       "      <td>9.19</td>\n",
       "    </tr>\n",
       "    <tr>\n",
       "      <th>ниже среднего</th>\n",
       "      <td>6658</td>\n",
       "      <td>593</td>\n",
       "      <td>91.82</td>\n",
       "      <td>8.18</td>\n",
       "    </tr>\n",
       "    <tr>\n",
       "      <th>низкая</th>\n",
       "      <td>4110</td>\n",
       "      <td>354</td>\n",
       "      <td>92.07</td>\n",
       "      <td>7.93</td>\n",
       "    </tr>\n",
       "  </tbody>\n",
       "</table>\n",
       "</div>"
      ],
      "text/plain": [
       "                 debt_count      debt_count%     \n",
       "debt                      0    1           0    1\n",
       "total_income_cat                                 \n",
       "высокая                4708  358       92.93 7.07\n",
       "выше среднего          4308  436       90.81 9.19\n",
       "ниже среднего          6658  593       91.82 8.18\n",
       "низкая                 4110  354       92.07 7.93"
      ]
     },
     "execution_count": 75,
     "metadata": {},
     "output_type": "execute_result"
    }
   ],
   "source": [
    "create_pivot_table('total_income_cat')"
   ]
  },
  {
   "cell_type": "markdown",
   "metadata": {},
   "source": [
    "Как и ожидалось, клиенты с высоким уровнем дохода наименее склонны с задержке выплат (7% имеют задолжности). \n",
    "\n",
    "Но главные нарушители по выплатам  - клиенты с доходом выше среднего(9.2% имеют задолжгости)."
   ]
  },
  {
   "cell_type": "markdown",
   "metadata": {},
   "source": [
    "#### Как разные цели кредита влияют на его возврат в срок?"
   ]
  },
  {
   "cell_type": "code",
   "execution_count": 76,
   "metadata": {},
   "outputs": [
    {
     "name": "stdout",
     "output_type": "stream",
     "text": [
      "Сводная таблица: purpose_cat и debt\n"
     ]
    },
    {
     "data": {
      "text/html": [
       "<div>\n",
       "<style scoped>\n",
       "    .dataframe tbody tr th:only-of-type {\n",
       "        vertical-align: middle;\n",
       "    }\n",
       "\n",
       "    .dataframe tbody tr th {\n",
       "        vertical-align: top;\n",
       "    }\n",
       "\n",
       "    .dataframe thead tr th {\n",
       "        text-align: left;\n",
       "    }\n",
       "\n",
       "    .dataframe thead tr:last-of-type th {\n",
       "        text-align: right;\n",
       "    }\n",
       "</style>\n",
       "<table border=\"1\" class=\"dataframe\">\n",
       "  <thead>\n",
       "    <tr>\n",
       "      <th></th>\n",
       "      <th colspan=\"2\" halign=\"left\">debt_count</th>\n",
       "      <th colspan=\"2\" halign=\"left\">debt_count%</th>\n",
       "    </tr>\n",
       "    <tr>\n",
       "      <th>debt</th>\n",
       "      <th>0</th>\n",
       "      <th>1</th>\n",
       "      <th>0</th>\n",
       "      <th>1</th>\n",
       "    </tr>\n",
       "    <tr>\n",
       "      <th>purpose_cat</th>\n",
       "      <th></th>\n",
       "      <th></th>\n",
       "      <th></th>\n",
       "      <th></th>\n",
       "    </tr>\n",
       "  </thead>\n",
       "  <tbody>\n",
       "    <tr>\n",
       "      <th>автомобиль</th>\n",
       "      <td>3912</td>\n",
       "      <td>403</td>\n",
       "      <td>90.66</td>\n",
       "      <td>9.34</td>\n",
       "    </tr>\n",
       "    <tr>\n",
       "      <th>жильё</th>\n",
       "      <td>3588</td>\n",
       "      <td>273</td>\n",
       "      <td>92.93</td>\n",
       "      <td>7.07</td>\n",
       "    </tr>\n",
       "    <tr>\n",
       "      <th>недвижимость</th>\n",
       "      <td>4156</td>\n",
       "      <td>330</td>\n",
       "      <td>92.64</td>\n",
       "      <td>7.36</td>\n",
       "    </tr>\n",
       "    <tr>\n",
       "      <th>образование</th>\n",
       "      <td>3652</td>\n",
       "      <td>370</td>\n",
       "      <td>90.80</td>\n",
       "      <td>9.20</td>\n",
       "    </tr>\n",
       "    <tr>\n",
       "      <th>ремонт</th>\n",
       "      <td>577</td>\n",
       "      <td>35</td>\n",
       "      <td>94.28</td>\n",
       "      <td>5.72</td>\n",
       "    </tr>\n",
       "    <tr>\n",
       "      <th>свадьба</th>\n",
       "      <td>2162</td>\n",
       "      <td>186</td>\n",
       "      <td>92.08</td>\n",
       "      <td>7.92</td>\n",
       "    </tr>\n",
       "    <tr>\n",
       "      <th>строительство</th>\n",
       "      <td>1737</td>\n",
       "      <td>144</td>\n",
       "      <td>92.34</td>\n",
       "      <td>7.66</td>\n",
       "    </tr>\n",
       "  </tbody>\n",
       "</table>\n",
       "</div>"
      ],
      "text/plain": [
       "              debt_count      debt_count%     \n",
       "debt                   0    1           0    1\n",
       "purpose_cat                                   \n",
       "автомобиль          3912  403       90.66 9.34\n",
       "жильё               3588  273       92.93 7.07\n",
       "недвижимость        4156  330       92.64 7.36\n",
       "образование         3652  370       90.80 9.20\n",
       "ремонт               577   35       94.28 5.72\n",
       "свадьба             2162  186       92.08 7.92\n",
       "строительство       1737  144       92.34 7.66"
      ]
     },
     "execution_count": 76,
     "metadata": {},
     "output_type": "execute_result"
    }
   ],
   "source": [
    "create_pivot_table('purpose_cat')"
   ]
  },
  {
   "cell_type": "markdown",
   "metadata": {},
   "source": [
    "Больше всего вероятность стать задолжником у клиента, который берёт кредит на автомобиль (9.3%). \n",
    "\n",
    "Меньше всего вероятность стать задолжником у берущих в кредит жильё (7%) и у делающих ремонт (5.7%)."
   ]
  },
  {
   "cell_type": "markdown",
   "metadata": {},
   "source": [
    "## 4. **ВЫВОД**\n",
    "В рамках данной работы были решены следующие задачи:\n",
    "\n",
    "- Проведена предобработка данных:\n",
    "    - найдены аномальные данные и пропущенные значения;\n",
    "    - разработан, описан и применен подход к их исправлению;\n",
    "    - проведена категоризация данных, необходимых для анализа;\n",
    "- Даны ответы на поставленные вопросы.\n",
    "    \n",
    "_**Практическая значимость:**_\n",
    "\n",
    "Предобработка данных, проведенная в данной работе позволяет использовать очищенные данные для дальнейшего анализа и построения моделей кредитного скоринга.\n",
    "Полученные сводные таблицы позволяют оценить зависимость надежности клиента от некоторых характеристик.\n",
    "\n",
    "_**Рекомендации по сбору данных:**_\n",
    "\n",
    "- проверить, как считаются данные столбца `days_employed` для пенсионеров и безработных;\n",
    "- дать четкие инструкции операторам о записи данных в столбец `purpose`."
   ]
  },
  {
   "cell_type": "code",
   "execution_count": null,
   "metadata": {},
   "outputs": [],
   "source": []
  }
 ],
 "metadata": {
  "kernelspec": {
   "display_name": "Python 3 (ipykernel)",
   "language": "python",
   "name": "python3"
  },
  "language_info": {
   "codemirror_mode": {
    "name": "ipython",
    "version": 3
   },
   "file_extension": ".py",
   "mimetype": "text/x-python",
   "name": "python",
   "nbconvert_exporter": "python",
   "pygments_lexer": "ipython3",
   "version": "3.8.5"
  },
  "toc": {
   "base_numbering": 1,
   "nav_menu": {},
   "number_sections": true,
   "sideBar": true,
   "skip_h1_title": false,
   "title_cell": "Table of Contents",
   "title_sidebar": "Contents",
   "toc_cell": false,
   "toc_position": {},
   "toc_section_display": true,
   "toc_window_display": true
  }
 },
 "nbformat": 4,
 "nbformat_minor": 4
}
