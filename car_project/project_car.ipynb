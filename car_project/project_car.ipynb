{
 "cells": [
  {
   "cell_type": "markdown",
   "id": "9b40549c",
   "metadata": {},
   "source": [
    "Описание проекта \"Определение стоимости автомобилей\"\n",
    "\n",
    "**Задача:**\n",
    "\n",
    "Построить модель для определения рыночной стоимости автомобиля. Модель выбирается с учетом:\n",
    "- качества предсказания. Для оценки качества моделей метрику используем RMSE\n",
    "- скорости предсказания;\n",
    "- времени обучения.\n",
    "\n",
    "**Данные:**\n",
    "\n",
    "В нашем распоряжении исторические данные: технические характеристики, комплектации и цены автомобилей. \n",
    "\n",
    "Данные находятся в файле /datasets/autos.csv.\n",
    "\n",
    "**План проекта:**\n",
    "\n",
    "- Загрузка и просмотр данных\n",
    "- Анализ и предобработка данных\n",
    "- Обучим разные модели. Для каждой попробуем различные гиперпараметры.\n",
    "- Проанализируем скорость работы и качество моделей.\n",
    "- Выводы\n"
   ]
  },
  {
   "cell_type": "code",
   "execution_count": 4,
   "id": "3cc6a9ae",
   "metadata": {},
   "outputs": [],
   "source": [
    "import pandas as pd #loading the necessary libraries\n",
    "import numpy as np\n",
    "import seaborn as sns\n",
    "import matplotlib.pyplot as plt\n",
    "import re\n",
    "import time\n",
    "from sklearn.model_selection import train_test_split\n",
    "from sklearn.linear_model import LinearRegression\n",
    "from sklearn.metrics import mean_squared_error\n",
    "from sklearn.metrics import make_scorer\n",
    "from sklearn.linear_model import LinearRegression\n",
    "from sklearn.tree import DecisionTreeRegressor\n",
    "from catboost import Pool, CatBoostRegressor, cv\n",
    "from lightgbm import LGBMRegressor\n",
    "from sklearn.model_selection import cross_val_score\n",
    "from sklearn.model_selection import GridSearchCV\n",
    "from sklearn.dummy import DummyRegressor\n",
    "from sklearn.preprocessing import StandardScaler, MinMaxScaler\n",
    "\n",
    "import warnings\n",
    "warnings.filterwarnings('ignore')"
   ]
  },
  {
   "cell_type": "markdown",
   "id": "48ed788b",
   "metadata": {},
   "source": [
    "## Загрузка и просмотр данных¶"
   ]
  },
  {
   "cell_type": "code",
   "execution_count": 5,
   "id": "97fdd330",
   "metadata": {},
   "outputs": [
    {
     "data": {
      "text/html": [
       "<div>\n",
       "<style scoped>\n",
       "    .dataframe tbody tr th:only-of-type {\n",
       "        vertical-align: middle;\n",
       "    }\n",
       "\n",
       "    .dataframe tbody tr th {\n",
       "        vertical-align: top;\n",
       "    }\n",
       "\n",
       "    .dataframe thead th {\n",
       "        text-align: right;\n",
       "    }\n",
       "</style>\n",
       "<table border=\"1\" class=\"dataframe\">\n",
       "  <thead>\n",
       "    <tr style=\"text-align: right;\">\n",
       "      <th></th>\n",
       "      <th>DateCrawled</th>\n",
       "      <th>Price</th>\n",
       "      <th>VehicleType</th>\n",
       "      <th>RegistrationYear</th>\n",
       "      <th>Gearbox</th>\n",
       "      <th>Power</th>\n",
       "      <th>Model</th>\n",
       "      <th>Kilometer</th>\n",
       "      <th>RegistrationMonth</th>\n",
       "      <th>FuelType</th>\n",
       "      <th>Brand</th>\n",
       "      <th>NotRepaired</th>\n",
       "      <th>DateCreated</th>\n",
       "      <th>NumberOfPictures</th>\n",
       "      <th>PostalCode</th>\n",
       "      <th>LastSeen</th>\n",
       "    </tr>\n",
       "  </thead>\n",
       "  <tbody>\n",
       "    <tr>\n",
       "      <th>0</th>\n",
       "      <td>2016-03-24 11:52:17</td>\n",
       "      <td>480</td>\n",
       "      <td>NaN</td>\n",
       "      <td>1993</td>\n",
       "      <td>manual</td>\n",
       "      <td>0</td>\n",
       "      <td>golf</td>\n",
       "      <td>150000</td>\n",
       "      <td>0</td>\n",
       "      <td>petrol</td>\n",
       "      <td>volkswagen</td>\n",
       "      <td>NaN</td>\n",
       "      <td>2016-03-24 00:00:00</td>\n",
       "      <td>0</td>\n",
       "      <td>70435</td>\n",
       "      <td>2016-04-07 03:16:57</td>\n",
       "    </tr>\n",
       "    <tr>\n",
       "      <th>1</th>\n",
       "      <td>2016-03-24 10:58:45</td>\n",
       "      <td>18300</td>\n",
       "      <td>coupe</td>\n",
       "      <td>2011</td>\n",
       "      <td>manual</td>\n",
       "      <td>190</td>\n",
       "      <td>NaN</td>\n",
       "      <td>125000</td>\n",
       "      <td>5</td>\n",
       "      <td>gasoline</td>\n",
       "      <td>audi</td>\n",
       "      <td>yes</td>\n",
       "      <td>2016-03-24 00:00:00</td>\n",
       "      <td>0</td>\n",
       "      <td>66954</td>\n",
       "      <td>2016-04-07 01:46:50</td>\n",
       "    </tr>\n",
       "    <tr>\n",
       "      <th>2</th>\n",
       "      <td>2016-03-14 12:52:21</td>\n",
       "      <td>9800</td>\n",
       "      <td>suv</td>\n",
       "      <td>2004</td>\n",
       "      <td>auto</td>\n",
       "      <td>163</td>\n",
       "      <td>grand</td>\n",
       "      <td>125000</td>\n",
       "      <td>8</td>\n",
       "      <td>gasoline</td>\n",
       "      <td>jeep</td>\n",
       "      <td>NaN</td>\n",
       "      <td>2016-03-14 00:00:00</td>\n",
       "      <td>0</td>\n",
       "      <td>90480</td>\n",
       "      <td>2016-04-05 12:47:46</td>\n",
       "    </tr>\n",
       "    <tr>\n",
       "      <th>3</th>\n",
       "      <td>2016-03-17 16:54:04</td>\n",
       "      <td>1500</td>\n",
       "      <td>small</td>\n",
       "      <td>2001</td>\n",
       "      <td>manual</td>\n",
       "      <td>75</td>\n",
       "      <td>golf</td>\n",
       "      <td>150000</td>\n",
       "      <td>6</td>\n",
       "      <td>petrol</td>\n",
       "      <td>volkswagen</td>\n",
       "      <td>no</td>\n",
       "      <td>2016-03-17 00:00:00</td>\n",
       "      <td>0</td>\n",
       "      <td>91074</td>\n",
       "      <td>2016-03-17 17:40:17</td>\n",
       "    </tr>\n",
       "    <tr>\n",
       "      <th>4</th>\n",
       "      <td>2016-03-31 17:25:20</td>\n",
       "      <td>3600</td>\n",
       "      <td>small</td>\n",
       "      <td>2008</td>\n",
       "      <td>manual</td>\n",
       "      <td>69</td>\n",
       "      <td>fabia</td>\n",
       "      <td>90000</td>\n",
       "      <td>7</td>\n",
       "      <td>gasoline</td>\n",
       "      <td>skoda</td>\n",
       "      <td>no</td>\n",
       "      <td>2016-03-31 00:00:00</td>\n",
       "      <td>0</td>\n",
       "      <td>60437</td>\n",
       "      <td>2016-04-06 10:17:21</td>\n",
       "    </tr>\n",
       "  </tbody>\n",
       "</table>\n",
       "</div>"
      ],
      "text/plain": [
       "           DateCrawled  Price VehicleType  RegistrationYear Gearbox  Power  \\\n",
       "0  2016-03-24 11:52:17    480         NaN              1993  manual      0   \n",
       "1  2016-03-24 10:58:45  18300       coupe              2011  manual    190   \n",
       "2  2016-03-14 12:52:21   9800         suv              2004    auto    163   \n",
       "3  2016-03-17 16:54:04   1500       small              2001  manual     75   \n",
       "4  2016-03-31 17:25:20   3600       small              2008  manual     69   \n",
       "\n",
       "   Model  Kilometer  RegistrationMonth  FuelType       Brand NotRepaired  \\\n",
       "0   golf     150000                  0    petrol  volkswagen         NaN   \n",
       "1    NaN     125000                  5  gasoline        audi         yes   \n",
       "2  grand     125000                  8  gasoline        jeep         NaN   \n",
       "3   golf     150000                  6    petrol  volkswagen          no   \n",
       "4  fabia      90000                  7  gasoline       skoda          no   \n",
       "\n",
       "           DateCreated  NumberOfPictures  PostalCode             LastSeen  \n",
       "0  2016-03-24 00:00:00                 0       70435  2016-04-07 03:16:57  \n",
       "1  2016-03-24 00:00:00                 0       66954  2016-04-07 01:46:50  \n",
       "2  2016-03-14 00:00:00                 0       90480  2016-04-05 12:47:46  \n",
       "3  2016-03-17 00:00:00                 0       91074  2016-03-17 17:40:17  \n",
       "4  2016-03-31 00:00:00                 0       60437  2016-04-06 10:17:21  "
      ]
     },
     "metadata": {},
     "output_type": "display_data"
    },
    {
     "name": "stdout",
     "output_type": "stream",
     "text": [
      "<class 'pandas.core.frame.DataFrame'>\n",
      "RangeIndex: 354369 entries, 0 to 354368\n",
      "Data columns (total 16 columns):\n",
      " #   Column             Non-Null Count   Dtype \n",
      "---  ------             --------------   ----- \n",
      " 0   DateCrawled        354369 non-null  object\n",
      " 1   Price              354369 non-null  int64 \n",
      " 2   VehicleType        316879 non-null  object\n",
      " 3   RegistrationYear   354369 non-null  int64 \n",
      " 4   Gearbox            334536 non-null  object\n",
      " 5   Power              354369 non-null  int64 \n",
      " 6   Model              334664 non-null  object\n",
      " 7   Kilometer          354369 non-null  int64 \n",
      " 8   RegistrationMonth  354369 non-null  int64 \n",
      " 9   FuelType           321474 non-null  object\n",
      " 10  Brand              354369 non-null  object\n",
      " 11  NotRepaired        283215 non-null  object\n",
      " 12  DateCreated        354369 non-null  object\n",
      " 13  NumberOfPictures   354369 non-null  int64 \n",
      " 14  PostalCode         354369 non-null  int64 \n",
      " 15  LastSeen           354369 non-null  object\n",
      "dtypes: int64(7), object(9)\n",
      "memory usage: 43.3+ MB\n",
      "Столбцы, имеющие пропушенные значения:\n"
     ]
    },
    {
     "data": {
      "text/html": [
       "<div>\n",
       "<style scoped>\n",
       "    .dataframe tbody tr th:only-of-type {\n",
       "        vertical-align: middle;\n",
       "    }\n",
       "\n",
       "    .dataframe tbody tr th {\n",
       "        vertical-align: top;\n",
       "    }\n",
       "\n",
       "    .dataframe thead th {\n",
       "        text-align: right;\n",
       "    }\n",
       "</style>\n",
       "<table border=\"1\" class=\"dataframe\">\n",
       "  <thead>\n",
       "    <tr style=\"text-align: right;\">\n",
       "      <th></th>\n",
       "      <th>index</th>\n",
       "      <th>nans</th>\n",
       "      <th>nans%</th>\n",
       "    </tr>\n",
       "  </thead>\n",
       "  <tbody>\n",
       "    <tr>\n",
       "      <th>0</th>\n",
       "      <td>VehicleType</td>\n",
       "      <td>37490</td>\n",
       "      <td>10.58</td>\n",
       "    </tr>\n",
       "    <tr>\n",
       "      <th>1</th>\n",
       "      <td>Gearbox</td>\n",
       "      <td>19833</td>\n",
       "      <td>5.60</td>\n",
       "    </tr>\n",
       "    <tr>\n",
       "      <th>2</th>\n",
       "      <td>Model</td>\n",
       "      <td>19705</td>\n",
       "      <td>5.56</td>\n",
       "    </tr>\n",
       "    <tr>\n",
       "      <th>3</th>\n",
       "      <td>FuelType</td>\n",
       "      <td>32895</td>\n",
       "      <td>9.28</td>\n",
       "    </tr>\n",
       "    <tr>\n",
       "      <th>4</th>\n",
       "      <td>NotRepaired</td>\n",
       "      <td>71154</td>\n",
       "      <td>20.08</td>\n",
       "    </tr>\n",
       "  </tbody>\n",
       "</table>\n",
       "</div>"
      ],
      "text/plain": [
       "         index   nans  nans%\n",
       "0  VehicleType  37490  10.58\n",
       "1      Gearbox  19833   5.60\n",
       "2        Model  19705   5.56\n",
       "3     FuelType  32895   9.28\n",
       "4  NotRepaired  71154  20.08"
      ]
     },
     "metadata": {},
     "output_type": "display_data"
    },
    {
     "name": "stdout",
     "output_type": "stream",
     "text": [
      "Повторы в таблице: 4\n"
     ]
    }
   ],
   "source": [
    "df = pd.read_csv(\"autos.csv\") #/datasets/autos.csv\n",
    "def count_nans(df):\n",
    "    '''a function that calculates the number and percentage of missing values in the dataframe\n",
    "    input: dataframe '''\n",
    "    print('Столбцы, имеющие пропушенные значения:')\n",
    "    nan_df = df.isna().sum().to_frame(name=\"nans\").query(\"nans > 0\")[\"nans\"].reset_index() #create frame with number of nan-values for each column\n",
    "    nan_df['nans%'] = nan_df['nans'].apply(lambda x: round(x*100/len(df),2)) #add column with % of nan-values\n",
    "    display(nan_df)\n",
    "    \n",
    "def info(df):\n",
    "    '''a function that summarizes the information about the dataframe: \n",
    "    - the first 5 rows of the dataframe, \n",
    "    - general information, \n",
    "    - table of missing values, \n",
    "    - the number of repetitions in the table\n",
    "    input: dataframe'''\n",
    "    display(df.head())\n",
    "    df.info()\n",
    "    count_nans(df)\n",
    "    print(f'Повторы в таблице: {df.duplicated().sum()}')\n",
    "info(df)"
   ]
  },
  {
   "cell_type": "markdown",
   "id": "9229f0d9",
   "metadata": {},
   "source": [
    "<a id = 'data_preparation'></a>\n",
    "<div style = 'border: solid green 2px; padding: 20px'>\n",
    "    \n",
    "    \n",
    "Датафрейм сотоит из 16 столбцов и 354369 наблюдений (строчек).\n",
    "\n",
    "Признаки:\n",
    "- DateCrawled — дата скачивания анкеты из базы\n",
    "- VehicleType — тип автомобильного кузова\n",
    "- RegistrationYear — год регистрации автомобиля\n",
    "- Gearbox — тип коробки передач\n",
    "- Power — мощность (л. с.)\n",
    "- Model — модель автомобиля\n",
    "- Kilometer — пробег (км)\n",
    "- RegistrationMonth — месяц регистрации автомобиля\n",
    "- FuelType — тип топлива\n",
    "- Brand — марка автомобиля\n",
    "- NotRepaired — была машина в ремонте или нет\n",
    "- DateCreated — дата создания анкеты\n",
    "- NumberOfPictures — количество фотографий автомобиля\n",
    "- PostalCode — почтовый индекс владельца анкеты (пользователя)\n",
    "- LastSeen — дата последней активности пользователя\n",
    "\n",
    "Целевой признак:\n",
    "- Price — цена (евро)\n",
    "\n",
    "Названия столбцов не содержат пробелов, все знаки в разных регистрах. Для дальнейшего удобства работы с данными заменим на нижний регистр.\n",
    "\n",
    "Есть категориальные и количественные данные, также присутствуют данные булева типа.\n",
    "\n",
    "Есть пропуски в 5 столбцах таблицы, о них подробнее ниже.\n",
    "\n",
    "Типы столбцов соответствуют информации хранящихся в них. Исключения составляют даты, имеющие тип object.\n",
    "\n",
    "Есть 4 повторяющихся наблюдения. Удалим их.\n",
    "\n",
    "Для построения модели, определяющей рынучную стоимость автомобиля, нужны не все признаки присутствующие в датафрейме. Удалим ненужные."
   ]
  },
  {
   "cell_type": "markdown",
   "id": "f49f6fb3",
   "metadata": {},
   "source": [
    "## Анализ и предобработка данных"
   ]
  },
  {
   "cell_type": "markdown",
   "id": "2ae79b03",
   "metadata": {},
   "source": [
    "Для удобства поменяем названия столбцов на нижний регистр."
   ]
  },
  {
   "cell_type": "code",
   "execution_count": 6,
   "id": "e44acb41",
   "metadata": {},
   "outputs": [],
   "source": [
    "df.columns = [re.sub(r'(?<!^)(?=[A-Z])', '_', name).lower() for name in df.columns]"
   ]
  },
  {
   "cell_type": "markdown",
   "id": "53536dd5",
   "metadata": {},
   "source": [
    "Удалим дубликаты в таблице."
   ]
  },
  {
   "cell_type": "code",
   "execution_count": 7,
   "id": "32936089",
   "metadata": {},
   "outputs": [],
   "source": [
    "df.drop_duplicates(inplace = True) #delete duplicates"
   ]
  },
  {
   "cell_type": "markdown",
   "id": "b8595de3",
   "metadata": {},
   "source": [
    "Оставим в нашей таблице только те столбцы, которые нужны для построения прогнозов цен автомобилей."
   ]
  },
  {
   "cell_type": "code",
   "execution_count": 8,
   "id": "b73a49a5",
   "metadata": {},
   "outputs": [
    {
     "data": {
      "text/html": [
       "<div>\n",
       "<style scoped>\n",
       "    .dataframe tbody tr th:only-of-type {\n",
       "        vertical-align: middle;\n",
       "    }\n",
       "\n",
       "    .dataframe tbody tr th {\n",
       "        vertical-align: top;\n",
       "    }\n",
       "\n",
       "    .dataframe thead th {\n",
       "        text-align: right;\n",
       "    }\n",
       "</style>\n",
       "<table border=\"1\" class=\"dataframe\">\n",
       "  <thead>\n",
       "    <tr style=\"text-align: right;\">\n",
       "      <th></th>\n",
       "      <th>price</th>\n",
       "      <th>vehicle_type</th>\n",
       "      <th>registration_year</th>\n",
       "      <th>gearbox</th>\n",
       "      <th>power</th>\n",
       "      <th>model</th>\n",
       "      <th>kilometer</th>\n",
       "      <th>fuel_type</th>\n",
       "      <th>brand</th>\n",
       "      <th>not_repaired</th>\n",
       "    </tr>\n",
       "  </thead>\n",
       "  <tbody>\n",
       "    <tr>\n",
       "      <th>0</th>\n",
       "      <td>480</td>\n",
       "      <td>NaN</td>\n",
       "      <td>1993</td>\n",
       "      <td>manual</td>\n",
       "      <td>0</td>\n",
       "      <td>golf</td>\n",
       "      <td>150000</td>\n",
       "      <td>petrol</td>\n",
       "      <td>volkswagen</td>\n",
       "      <td>NaN</td>\n",
       "    </tr>\n",
       "    <tr>\n",
       "      <th>1</th>\n",
       "      <td>18300</td>\n",
       "      <td>coupe</td>\n",
       "      <td>2011</td>\n",
       "      <td>manual</td>\n",
       "      <td>190</td>\n",
       "      <td>NaN</td>\n",
       "      <td>125000</td>\n",
       "      <td>gasoline</td>\n",
       "      <td>audi</td>\n",
       "      <td>yes</td>\n",
       "    </tr>\n",
       "    <tr>\n",
       "      <th>2</th>\n",
       "      <td>9800</td>\n",
       "      <td>suv</td>\n",
       "      <td>2004</td>\n",
       "      <td>auto</td>\n",
       "      <td>163</td>\n",
       "      <td>grand</td>\n",
       "      <td>125000</td>\n",
       "      <td>gasoline</td>\n",
       "      <td>jeep</td>\n",
       "      <td>NaN</td>\n",
       "    </tr>\n",
       "    <tr>\n",
       "      <th>3</th>\n",
       "      <td>1500</td>\n",
       "      <td>small</td>\n",
       "      <td>2001</td>\n",
       "      <td>manual</td>\n",
       "      <td>75</td>\n",
       "      <td>golf</td>\n",
       "      <td>150000</td>\n",
       "      <td>petrol</td>\n",
       "      <td>volkswagen</td>\n",
       "      <td>no</td>\n",
       "    </tr>\n",
       "    <tr>\n",
       "      <th>4</th>\n",
       "      <td>3600</td>\n",
       "      <td>small</td>\n",
       "      <td>2008</td>\n",
       "      <td>manual</td>\n",
       "      <td>69</td>\n",
       "      <td>fabia</td>\n",
       "      <td>90000</td>\n",
       "      <td>gasoline</td>\n",
       "      <td>skoda</td>\n",
       "      <td>no</td>\n",
       "    </tr>\n",
       "  </tbody>\n",
       "</table>\n",
       "</div>"
      ],
      "text/plain": [
       "   price vehicle_type  registration_year gearbox  power  model  kilometer  \\\n",
       "0    480          NaN               1993  manual      0   golf     150000   \n",
       "1  18300        coupe               2011  manual    190    NaN     125000   \n",
       "2   9800          suv               2004    auto    163  grand     125000   \n",
       "3   1500        small               2001  manual     75   golf     150000   \n",
       "4   3600        small               2008  manual     69  fabia      90000   \n",
       "\n",
       "  fuel_type       brand not_repaired  \n",
       "0    petrol  volkswagen          NaN  \n",
       "1  gasoline        audi          yes  \n",
       "2  gasoline        jeep          NaN  \n",
       "3    petrol  volkswagen           no  \n",
       "4  gasoline       skoda           no  "
      ]
     },
     "execution_count": 8,
     "metadata": {},
     "output_type": "execute_result"
    }
   ],
   "source": [
    "df_model = df.copy().drop(columns = ['date_crawled', 'registration_month', 'date_created', 'number_of_pictures', 'postal_code', 'last_seen']) \n",
    "df_model.head()"
   ]
  },
  {
   "cell_type": "markdown",
   "id": "566b62ca",
   "metadata": {},
   "source": [
    "### Признак `brand`"
   ]
  },
  {
   "cell_type": "code",
   "execution_count": 9,
   "id": "740b28c9",
   "metadata": {},
   "outputs": [
    {
     "data": {
      "text/plain": [
       "array(['volkswagen', 'audi', 'jeep', 'skoda', 'bmw', 'peugeot', 'ford',\n",
       "       'mazda', 'nissan', 'renault', 'mercedes_benz', 'opel', 'seat',\n",
       "       'citroen', 'honda', 'fiat', 'mini', 'smart', 'hyundai',\n",
       "       'sonstige_autos', 'alfa_romeo', 'subaru', 'volvo', 'mitsubishi',\n",
       "       'kia', 'suzuki', 'lancia', 'toyota', 'chevrolet', 'dacia',\n",
       "       'daihatsu', 'trabant', 'saab', 'chrysler', 'jaguar', 'daewoo',\n",
       "       'porsche', 'rover', 'land_rover', 'lada'], dtype=object)"
      ]
     },
     "execution_count": 9,
     "metadata": {},
     "output_type": "execute_result"
    }
   ],
   "source": [
    "df_model.brand.unique()"
   ]
  },
  {
   "cell_type": "markdown",
   "id": "574e09dd",
   "metadata": {},
   "source": [
    "Пропущенных данных в столбце нет. Все бренды узнаваемы. "
   ]
  },
  {
   "cell_type": "markdown",
   "id": "704a4096",
   "metadata": {},
   "source": [
    "### Признак `model`"
   ]
  },
  {
   "cell_type": "code",
   "execution_count": 10,
   "id": "486ae408",
   "metadata": {},
   "outputs": [
    {
     "data": {
      "text/plain": [
       "array(['golf', nan, 'grand', 'fabia', '3er', '2_reihe', 'other', 'c_max',\n",
       "       '3_reihe', 'passat', 'navara', 'ka', 'polo', 'twingo', 'a_klasse',\n",
       "       'scirocco', '5er', 'meriva', 'arosa', 'c4', 'civic', 'transporter',\n",
       "       'punto', 'e_klasse', 'clio', 'kadett', 'kangoo', 'corsa', 'one',\n",
       "       'fortwo', '1er', 'b_klasse', 'signum', 'astra', 'a8', 'jetta',\n",
       "       'fiesta', 'c_klasse', 'micra', 'vito', 'sprinter', '156', 'escort',\n",
       "       'forester', 'xc_reihe', 'scenic', 'a4', 'a1', 'insignia', 'combo',\n",
       "       'focus', 'tt', 'a6', 'jazz', 'omega', 'slk', '7er', '80', '147',\n",
       "       '100', 'z_reihe', 'sportage', 'sorento', 'v40', 'ibiza', 'mustang',\n",
       "       'eos', 'touran', 'getz', 'a3', 'almera', 'megane', 'lupo', 'r19',\n",
       "       'zafira', 'caddy', 'mondeo', 'cordoba', 'colt', 'impreza',\n",
       "       'vectra', 'berlingo', 'tiguan', 'i_reihe', 'espace', 'sharan',\n",
       "       '6_reihe', 'panda', 'up', 'seicento', 'ceed', '5_reihe', 'yeti',\n",
       "       'octavia', 'mii', 'rx_reihe', '6er', 'modus', 'fox', 'matiz',\n",
       "       'beetle', 'c1', 'rio', 'touareg', 'logan', 'spider', 'cuore',\n",
       "       's_max', 'a2', 'galaxy', 'c3', 'viano', 's_klasse', '1_reihe',\n",
       "       'avensis', 'roomster', 'sl', 'kaefer', 'santa', 'cooper', 'leon',\n",
       "       '4_reihe', 'a5', '500', 'laguna', 'ptcruiser', 'clk', 'primera',\n",
       "       'x_reihe', 'exeo', '159', 'transit', 'juke', 'qashqai', 'carisma',\n",
       "       'accord', 'corolla', 'lanos', 'phaeton', 'verso', 'swift', 'rav',\n",
       "       'picanto', 'boxster', 'kalos', 'superb', 'stilo', 'alhambra',\n",
       "       'mx_reihe', 'roadster', 'ypsilon', 'cayenne', 'galant', 'justy',\n",
       "       '90', 'sirion', 'crossfire', 'agila', 'duster', 'cr_reihe', 'v50',\n",
       "       'c_reihe', 'v_klasse', 'm_klasse', 'yaris', 'c5', 'aygo', 'cc',\n",
       "       'carnival', 'fusion', '911', 'bora', 'forfour', 'm_reihe', 'cl',\n",
       "       'tigra', '300c', 'spark', 'v70', 'kuga', 'x_type', 'ducato',\n",
       "       's_type', 'x_trail', 'toledo', 'altea', 'voyager', 'calibra',\n",
       "       'bravo', 'antara', 'tucson', 'citigo', 'jimny', 'wrangler',\n",
       "       'lybra', 'q7', 'lancer', 'captiva', 'c2', 'discovery',\n",
       "       'freelander', 'sandero', 'note', '900', 'cherokee', 'clubman',\n",
       "       'samara', 'defender', '601', 'cx_reihe', 'legacy', 'pajero',\n",
       "       'auris', 'niva', 's60', 'nubira', 'vivaro', 'g_klasse', 'lodgy',\n",
       "       '850', 'range_rover', 'q3', 'serie_2', 'glk', 'charade', 'croma',\n",
       "       'outlander', 'doblo', 'musa', 'move', '9000', 'v60', '145', 'aveo',\n",
       "       '200', 'b_max', 'range_rover_sport', 'terios', 'rangerover', 'q5',\n",
       "       'range_rover_evoque', 'materia', 'delta', 'gl', 'kalina', 'amarok',\n",
       "       'elefantino', 'i3', 'kappa', 'serie_3', 'serie_1'], dtype=object)"
      ]
     },
     "execution_count": 10,
     "metadata": {},
     "output_type": "execute_result"
    }
   ],
   "source": [
    "df_model.model.unique()"
   ]
  },
  {
   "cell_type": "markdown",
   "id": "c6f5cb6e",
   "metadata": {},
   "source": [
    "С моделями машин посложнее чем с брендами. Их много.\n",
    "- есть пропущенные значения. заменим из на 'unknown'\n",
    "- 'range_rover' и 'rangerover' 2 разных написания одной модели. заменим."
   ]
  },
  {
   "cell_type": "code",
   "execution_count": 11,
   "id": "31c75ccc",
   "metadata": {},
   "outputs": [],
   "source": [
    "df_model['model'] = df_model.model.replace('rangerover', 'range_rover')\n",
    "df_model['model'] = df_model['model'].fillna('uknown')"
   ]
  },
  {
   "cell_type": "markdown",
   "id": "f7369a54",
   "metadata": {},
   "source": [
    "### Целевой признак `price`"
   ]
  },
  {
   "cell_type": "code",
   "execution_count": 12,
   "id": "43c1354e",
   "metadata": {},
   "outputs": [
    {
     "data": {
      "text/plain": [
       "count    354365.000000\n",
       "mean       4416.679830\n",
       "std        4514.176349\n",
       "min           0.000000\n",
       "25%        1050.000000\n",
       "50%        2700.000000\n",
       "75%        6400.000000\n",
       "max       20000.000000\n",
       "Name: price, dtype: float64"
      ]
     },
     "execution_count": 12,
     "metadata": {},
     "output_type": "execute_result"
    }
   ],
   "source": [
    "df_model.price.describe()"
   ]
  },
  {
   "cell_type": "markdown",
   "id": "d2eca652",
   "metadata": {},
   "source": [
    "В столбце `price` минимальное значение 0. так дешево навряд ли будут продавать машины, скорее всего данные испорчены. Поскольку это целевой признак, то никак заполнить его мы не можем, удалим данные для которых цена очень низкая (около 0)."
   ]
  },
  {
   "cell_type": "code",
   "execution_count": 13,
   "id": "20e290cb",
   "metadata": {},
   "outputs": [
    {
     "name": "stdout",
     "output_type": "stream",
     "text": [
      "Квантиль 5% = 200.0 евро\n"
     ]
    }
   ],
   "source": [
    "print(f'Квантиль 5% = {df_model.price.quantile(0.05)} евро')"
   ]
  },
  {
   "cell_type": "markdown",
   "id": "ce225fc7",
   "metadata": {},
   "source": [
    "За такую стоимость можно купить какую-нибудь разбитую машину. Поэтому удалим данные о цене менее 200 евро. Потеря 5% наших данных приемлема."
   ]
  },
  {
   "cell_type": "code",
   "execution_count": 14,
   "id": "a869f9a3",
   "metadata": {},
   "outputs": [
    {
     "data": {
      "text/plain": [
       "count    334917.000000\n",
       "mean       4669.992094\n",
       "std        4515.700301\n",
       "min         202.000000\n",
       "25%        1299.000000\n",
       "50%        2990.000000\n",
       "75%        6700.000000\n",
       "max       20000.000000\n",
       "Name: price, dtype: float64"
      ]
     },
     "execution_count": 14,
     "metadata": {},
     "output_type": "execute_result"
    }
   ],
   "source": [
    "df_model = df_model[(df_model.price>200)]\n",
    "df_model.price.describe()"
   ]
  },
  {
   "cell_type": "markdown",
   "id": "cf4709c2",
   "metadata": {},
   "source": [
    "### Признак `vehical_type`"
   ]
  },
  {
   "cell_type": "markdown",
   "id": "810f54f1",
   "metadata": {},
   "source": [
    "Данные в этом столбце имеют чуть больше 10% пропущенных значений.\n",
    "\n",
    "Заполним пропущенные данные наиболее часто встречающимся значением для данной модели, данного бренда. (например, модель 145 бренда alfa_romeo имеет 3 типа кузова: coupe, other, sedan, small - чаще всего встречается кузов small. Поэтому пропущенный тип кузова для данной модели заменим на small)\n"
   ]
  },
  {
   "cell_type": "code",
   "execution_count": 15,
   "id": "92a4491b",
   "metadata": {},
   "outputs": [],
   "source": [
    "df_model['vehicle_type'] = df_model['vehicle_type'].fillna(df_model.groupby(['model','brand'])\n",
    "                                                           .vehicle_type.transform(lambda x: x.value_counts().idxmax()))                                               "
   ]
  },
  {
   "cell_type": "markdown",
   "id": "dacbeab7",
   "metadata": {},
   "source": [
    "### Столбец `registration_year`"
   ]
  },
  {
   "cell_type": "code",
   "execution_count": 16,
   "id": "50a5c8ed",
   "metadata": {},
   "outputs": [
    {
     "data": {
      "text/plain": [
       "count    334917.000000\n",
       "mean       2003.977920\n",
       "std          67.384499\n",
       "min        1000.000000\n",
       "25%        1999.000000\n",
       "50%        2003.000000\n",
       "75%        2008.000000\n",
       "max        9999.000000\n",
       "Name: registration_year, dtype: float64"
      ]
     },
     "execution_count": 16,
     "metadata": {},
     "output_type": "execute_result"
    }
   ],
   "source": [
    "df_model.registration_year.describe()"
   ]
  },
  {
   "cell_type": "markdown",
   "id": "ee5a00a8",
   "metadata": {},
   "source": [
    "Столбец отвечающий за информацию о годе регистрации имеет аномальные значения: минимальное значение 1000, максимальное 9999.\n",
    "\n",
    "Автомобили стали вводить в эксплуатацию лишь в 20 веке, поэтому регистрационный год должен быть не меньше 1900 года.\n",
    "\n",
    "Посмотрим крайний год создания анкет в исходном датафрейме, регистрационный год не должен быть больше этого значения."
   ]
  },
  {
   "cell_type": "code",
   "execution_count": 17,
   "id": "37c8de9c",
   "metadata": {},
   "outputs": [
    {
     "name": "stdout",
     "output_type": "stream",
     "text": [
      "Крайний год, создания анкеты: 2016\n"
     ]
    }
   ],
   "source": [
    "df['date_created'] = pd.to_datetime(df['date_created'], format='%Y-%m-%dT%H:%M:%S')\n",
    "print(f\"Крайний год, создания анкеты: {df.date_created.dt.to_period('Y').max()}\")"
   ]
  },
  {
   "cell_type": "code",
   "execution_count": 18,
   "id": "bbb5d6e2",
   "metadata": {},
   "outputs": [
    {
     "name": "stdout",
     "output_type": "stream",
     "text": [
      "Процент наблюдений, в которых год регистрации аномален: 4.06%\n"
     ]
    }
   ],
   "source": [
    "print(f'Процент наблюдений, в которых год регистрации аномален: {len(df_model[(df_model.registration_year<1900)|(df_model.registration_year>2016)])/len(df_model):.2%}')"
   ]
  },
  {
   "cell_type": "markdown",
   "id": "539c03d6",
   "metadata": {},
   "source": [
    "Считаю, что эти данные можно удалить. Удалим данные с аномальными значениями года регистрации автомобиля."
   ]
  },
  {
   "cell_type": "code",
   "execution_count": 19,
   "id": "4979ef73",
   "metadata": {},
   "outputs": [],
   "source": [
    "df_model = df_model[(df_model.registration_year>=1900)&(df_model.registration_year<=2016)]"
   ]
  },
  {
   "cell_type": "markdown",
   "id": "4cbd4c89",
   "metadata": {},
   "source": [
    "### Столбец `gearbox`"
   ]
  },
  {
   "cell_type": "code",
   "execution_count": 20,
   "id": "d0944460",
   "metadata": {},
   "outputs": [
    {
     "data": {
      "text/plain": [
       "manual    245193\n",
       "auto       62521\n",
       "NaN        13589\n",
       "Name: gearbox, dtype: int64"
      ]
     },
     "execution_count": 20,
     "metadata": {},
     "output_type": "execute_result"
    }
   ],
   "source": [
    "df_model.gearbox.value_counts(dropna = False)"
   ]
  },
  {
   "cell_type": "markdown",
   "id": "b4fd9d56",
   "metadata": {},
   "source": [
    "Поскольку автоматическая коробка передач пришла в серийное производство только в 1947 году, то заменим пропущенные значения для рассмативаемого столбца на 'manual' для машин с годом регистрации меньше 1947. Все остальные пропущенные значения заменим на 'unknown'"
   ]
  },
  {
   "cell_type": "code",
   "execution_count": 21,
   "id": "634fb161",
   "metadata": {},
   "outputs": [
    {
     "data": {
      "text/plain": [
       "manual     245224\n",
       "auto        62520\n",
       "unknown     13559\n",
       "Name: gearbox, dtype: int64"
      ]
     },
     "execution_count": 21,
     "metadata": {},
     "output_type": "execute_result"
    }
   ],
   "source": [
    "df_model.loc[df_model.registration_year<1947, 'gearbox'] = 'manual'\n",
    "df_model['gearbox'] = df_model.gearbox.fillna('unknown')\n",
    "df_model.gearbox.value_counts(dropna = False)"
   ]
  },
  {
   "cell_type": "markdown",
   "id": "8ac17901",
   "metadata": {},
   "source": [
    "### Столбец `fuel_type`"
   ]
  },
  {
   "cell_type": "markdown",
   "id": "0347383f",
   "metadata": {},
   "source": [
    "Заменим пропущенные значения этого столбца на 'unknown'"
   ]
  },
  {
   "cell_type": "code",
   "execution_count": 22,
   "id": "e7289e7f",
   "metadata": {},
   "outputs": [
    {
     "data": {
      "text/plain": [
       "petrol      199285\n",
       "gasoline     94477\n",
       "unknown      21584\n",
       "lpg           4990\n",
       "cng            527\n",
       "hybrid         218\n",
       "other          138\n",
       "electric        84\n",
       "Name: fuel_type, dtype: int64"
      ]
     },
     "execution_count": 22,
     "metadata": {},
     "output_type": "execute_result"
    }
   ],
   "source": [
    "df_model['fuel_type'] = df_model.fuel_type.fillna('unknown')\n",
    "df_model.fuel_type.value_counts(dropna = False)"
   ]
  },
  {
   "cell_type": "markdown",
   "id": "0a0e196b",
   "metadata": {},
   "source": [
    "### Столбец `power`"
   ]
  },
  {
   "cell_type": "markdown",
   "id": "bf1567b1",
   "metadata": {},
   "source": [
    "Теперь разберемся с данными по столбцу `power` - мощность автомобиля в лошадинных силах. Этот признак можно ограничить снизу 30л.с и 2000л.с сверху.\n",
    "Также посчитаем какой процент таких данных. Заменим их на nan-values."
   ]
  },
  {
   "cell_type": "code",
   "execution_count": 23,
   "id": "a7a78754",
   "metadata": {},
   "outputs": [
    {
     "name": "stdout",
     "output_type": "stream",
     "text": [
      "Процент наблюдений, в которых мощность аномалена: 9.50%\n"
     ]
    }
   ],
   "source": [
    "print(f'Процент наблюдений, в которых мощность аномалена: {len(df_model[(df_model.power<30)|(df_model.power>2000)])/len(df_model):.2%}')"
   ]
  },
  {
   "cell_type": "code",
   "execution_count": 24,
   "id": "a21197b2",
   "metadata": {},
   "outputs": [],
   "source": [
    "df_model.loc[df_model.power<30, 'power'] = np.nan\n",
    "df_model.loc[df_model.power>2000, 'power'] = np.nan"
   ]
  },
  {
   "cell_type": "markdown",
   "id": "b807b859",
   "metadata": {},
   "source": [
    "Теперь данные в этом столбце имеют 9.5% пропущенных значений.\n",
    "\n",
    "Заполним пропущенные данные наиболее часто встречающимся значением для похожей машины (должны совпадать бренд, модель, кузов, год выпуска, коробка передач, топливо), если нет аналогичных машин - заменяем на nan-values."
   ]
  },
  {
   "cell_type": "code",
   "execution_count": 25,
   "id": "da8e0013",
   "metadata": {},
   "outputs": [],
   "source": [
    "df_model['power'] = df_model['power'].fillna(df_model.groupby(['brand','model','vehicle_type','registration_year', 'gearbox', 'fuel_type'])\n",
    "                                             .power.transform(lambda x: x.value_counts().idxmax() if x.value_counts().size!=0 else np.NaN))    "
   ]
  },
  {
   "cell_type": "code",
   "execution_count": 26,
   "id": "c7bba5bc",
   "metadata": {
    "scrolled": true
   },
   "outputs": [
    {
     "name": "stdout",
     "output_type": "stream",
     "text": [
      "Столбцы, имеющие пропушенные значения:\n"
     ]
    },
    {
     "data": {
      "text/html": [
       "<div>\n",
       "<style scoped>\n",
       "    .dataframe tbody tr th:only-of-type {\n",
       "        vertical-align: middle;\n",
       "    }\n",
       "\n",
       "    .dataframe tbody tr th {\n",
       "        vertical-align: top;\n",
       "    }\n",
       "\n",
       "    .dataframe thead th {\n",
       "        text-align: right;\n",
       "    }\n",
       "</style>\n",
       "<table border=\"1\" class=\"dataframe\">\n",
       "  <thead>\n",
       "    <tr style=\"text-align: right;\">\n",
       "      <th></th>\n",
       "      <th>index</th>\n",
       "      <th>nans</th>\n",
       "      <th>nans%</th>\n",
       "    </tr>\n",
       "  </thead>\n",
       "  <tbody>\n",
       "    <tr>\n",
       "      <th>0</th>\n",
       "      <td>power</td>\n",
       "      <td>7568</td>\n",
       "      <td>2.36</td>\n",
       "    </tr>\n",
       "    <tr>\n",
       "      <th>1</th>\n",
       "      <td>not_repaired</td>\n",
       "      <td>55718</td>\n",
       "      <td>17.34</td>\n",
       "    </tr>\n",
       "  </tbody>\n",
       "</table>\n",
       "</div>"
      ],
      "text/plain": [
       "          index   nans  nans%\n",
       "0         power   7568   2.36\n",
       "1  not_repaired  55718  17.34"
      ]
     },
     "metadata": {},
     "output_type": "display_data"
    }
   ],
   "source": [
    "count_nans(df_model) #count the remaining missing values"
   ]
  },
  {
   "cell_type": "markdown",
   "id": "70a73120",
   "metadata": {},
   "source": [
    "Удалим оставшиеся пропущенные значения в столбце power."
   ]
  },
  {
   "cell_type": "code",
   "execution_count": 27,
   "id": "1da9a616",
   "metadata": {},
   "outputs": [],
   "source": [
    "df_model.dropna(subset= ['power'], inplace = True) #delete remaining missing values in column power"
   ]
  },
  {
   "cell_type": "markdown",
   "id": "f51a775b",
   "metadata": {},
   "source": [
    "### Столбец `kilometer`"
   ]
  },
  {
   "cell_type": "code",
   "execution_count": 28,
   "id": "2dcb0b61",
   "metadata": {},
   "outputs": [
    {
     "name": "stdout",
     "output_type": "stream",
     "text": [
      "count    313735.000000\n",
      "mean     128648.684399\n",
      "std       36676.016679\n",
      "min        5000.000000\n",
      "25%      125000.000000\n",
      "50%      150000.000000\n",
      "75%      150000.000000\n",
      "max      150000.000000\n",
      "Name: kilometer, dtype: float64\n"
     ]
    },
    {
     "data": {
      "image/png": "[encoded data removed]",
      "text/plain": [
       "<Figure size 432x288 with 1 Axes>"
      ]
     },
     "metadata": {
      "needs_background": "light"
     },
     "output_type": "display_data"
    }
   ],
   "source": [
    "print(df_model.kilometer.describe())\n",
    "df_model.kilometer.hist()\n",
    "plt.show()"
   ]
  },
  {
   "cell_type": "markdown",
   "id": "4528502b",
   "metadata": {},
   "source": [
    "Нет пропущенных значений. Достаточно реальные значения."
   ]
  },
  {
   "cell_type": "markdown",
   "id": "31d66067",
   "metadata": {},
   "source": [
    "### Признак `not_repaired`"
   ]
  },
  {
   "cell_type": "markdown",
   "id": "49e661e0",
   "metadata": {},
   "source": [
    "Пропущенные значения этого признака заменим на 'unknown'"
   ]
  },
  {
   "cell_type": "code",
   "execution_count": 29,
   "id": "316a053a",
   "metadata": {},
   "outputs": [],
   "source": [
    "df_model['not_repaired'] = df_model['not_repaired'].fillna('unknown')"
   ]
  },
  {
   "cell_type": "markdown",
   "id": "7ede214d",
   "metadata": {},
   "source": [
    "Проверим наличие пропущенных значений после предобработки."
   ]
  },
  {
   "cell_type": "code",
   "execution_count": 30,
   "id": "219b4565",
   "metadata": {},
   "outputs": [
    {
     "name": "stdout",
     "output_type": "stream",
     "text": [
      "Столбцы, имеющие пропушенные значения:\n"
     ]
    },
    {
     "data": {
      "text/html": [
       "<div>\n",
       "<style scoped>\n",
       "    .dataframe tbody tr th:only-of-type {\n",
       "        vertical-align: middle;\n",
       "    }\n",
       "\n",
       "    .dataframe tbody tr th {\n",
       "        vertical-align: top;\n",
       "    }\n",
       "\n",
       "    .dataframe thead th {\n",
       "        text-align: right;\n",
       "    }\n",
       "</style>\n",
       "<table border=\"1\" class=\"dataframe\">\n",
       "  <thead>\n",
       "    <tr style=\"text-align: right;\">\n",
       "      <th></th>\n",
       "      <th>index</th>\n",
       "      <th>nans</th>\n",
       "      <th>nans%</th>\n",
       "    </tr>\n",
       "  </thead>\n",
       "  <tbody>\n",
       "  </tbody>\n",
       "</table>\n",
       "</div>"
      ],
      "text/plain": [
       "Empty DataFrame\n",
       "Columns: [index, nans, nans%]\n",
       "Index: []"
      ]
     },
     "metadata": {},
     "output_type": "display_data"
    }
   ],
   "source": [
    "count_nans(df_model)"
   ]
  },
  {
   "cell_type": "markdown",
   "id": "9ebaeabe",
   "metadata": {},
   "source": [
    "Проверим зависимость между признаками."
   ]
  },
  {
   "cell_type": "code",
   "execution_count": 31,
   "id": "85078178",
   "metadata": {},
   "outputs": [
    {
     "data": {
      "image/png": "[encoded data removed]",
      "text/plain": [
       "<Figure size 720x720 with 20 Axes>"
      ]
     },
     "metadata": {
      "needs_background": "light"
     },
     "output_type": "display_data"
    },
    {
     "data": {
      "image/png": "[encoded data removed]",
      "text/plain": [
       "<Figure size 432x288 with 2 Axes>"
      ]
     },
     "metadata": {
      "needs_background": "light"
     },
     "output_type": "display_data"
    }
   ],
   "source": [
    "sns.pairplot(df_model)\n",
    "plt.show()\n",
    "sns.heatmap(df_model.corr())\n",
    "plt.title(f'Корреляция для ')\n",
    "plt.show()"
   ]
  },
  {
   "cell_type": "markdown",
   "id": "799568cf",
   "metadata": {},
   "source": [
    "<a id = 'data_preparation'></a>\n",
    "<div style = 'border: solid green 2px; padding: 20px'>\n",
    "    \n",
    "**Вывод:**\n",
    "    \n",
    "   В рамках предобработки данных были выполнены следующие шаги:\n",
    "    \n",
    "   - названия столбцов переведены в нижний регистр\n",
    "   - удалены дубликаты\n",
    "   - удалены столбцы ненужные для построения модели\n",
    "   - оставшиеся столбцы были рассмотрены на наличие артефактов и пропущенных значений. Артефакты ликвидированы, пропущенные значения удалены либо заполнены.\n",
    "     \n",
    "Рассмотрена связь между признаками:\n",
    "    \n",
    "   - как видно из гистограмм pairplota в данных присутствуют выбросы, они могут отрицательно повлиять на качество моделей. Но удалять мы их не можем, поскольку они могут содержать важные данные (например, информацию о дорогих машинах или о машинах с маленьким пробегом. такие даные имеют место быть)  \n",
    "   - выбросы `registration_year` тоже принято оставить, хотя стоит уточнить у заказчика, будет ли приложение работаеть с раритетными автомобилями или лучше ограничить год выпуска машин. \n",
    "   - мультиколлинеарных признаков не обнаружено\n",
    "    "
   ]
  },
  {
   "cell_type": "markdown",
   "id": "fcd921d6",
   "metadata": {},
   "source": [
    "## Обучение моделей"
   ]
  },
  {
   "cell_type": "markdown",
   "id": "92e2c0c4",
   "metadata": {},
   "source": [
    "Обучим и сравним результаты и скорость работы следующих моделей:\n",
    "\n",
    "- LinearRegression\n",
    "- DecisionTreeRegressor\n",
    "- CatBoostRegressor\n",
    "- LGBMRegressor\n",
    "\n",
    "В качестве метрики для всех моделей будем использовать RMSE. Качество моделей будем проверять на кросс-валидации.\n",
    "\n",
    "Подготовим данные для обучения."
   ]
  },
  {
   "cell_type": "code",
   "execution_count": 32,
   "id": "b0cb8aaa",
   "metadata": {},
   "outputs": [
    {
     "name": "stdout",
     "output_type": "stream",
     "text": [
      "(235301, 9) (235301,)\n",
      "(78434, 9) (78434,)\n",
      "(235301, 308) (235301,)\n",
      "(78434, 308) (78434,)\n",
      "(235301, 9) (235301,)\n",
      "(78434, 9) (78434,)\n"
     ]
    }
   ],
   "source": [
    "cat_features = ['brand', 'model', 'vehicle_type', 'gearbox', 'fuel_type', 'not_repaired']\n",
    "\n",
    "features = df_model.drop('price', axis = 1) #split features-target #features for CatBoost regression\n",
    "target = df_model['price']\n",
    "\n",
    "features_ohe = features.copy() # prepare features for linear regression and decision tree regression\n",
    "features_ohe = pd.get_dummies(features, drop_first = True) # ohe-coding categorical features\n",
    "\n",
    "features_light = features.copy() # prepare features for lightGBM regression \n",
    "features_light = features_light.astype({\"vehicle_type\":'category',\n",
    "                                  \"gearbox\":'category',\n",
    "                                  \"model\":'category',\n",
    "                                  \"fuel_type\":'category',\n",
    "                                  \"brand\":'category',\n",
    "                                  \"not_repaired\":'category'})\n",
    "\n",
    "features_train, features_test, target_train, target_test = train_test_split(features, target, test_size = .25, random_state = 12345) #split train-test\n",
    "\n",
    "features_train_ohe = features_ohe.loc[features_train.index, :] #split train-test for ohe-coding features\n",
    "features_test_ohe = features_ohe.loc[features_test.index, :]\n",
    "\n",
    "features_train_light = features_light.loc[features_train.index, :]#split train-test light features\n",
    "features_test_light = features_light.loc[features_test.index, :]\n",
    "\n",
    "print(features_train.shape, target_train.shape) #check the shape\n",
    "print(features_test.shape, target_test.shape)\n",
    "print(features_train_ohe.shape, target_train.shape)\n",
    "print(features_test_ohe.shape, target_test.shape)\n",
    "print(features_train_light.shape, target_train.shape)\n",
    "print(features_test_light.shape, target_test.shape)"
   ]
  },
  {
   "cell_type": "code",
   "execution_count": 33,
   "id": "63645134",
   "metadata": {},
   "outputs": [],
   "source": [
    "def rmse(target, predict):\n",
    "    \"\"\"function that calculate Root Mean Squared Error\n",
    "    input: target values, predict values\n",
    "    output: RMSE\"\"\"\n",
    "    return mean_squared_error(predict,target)**0.5\n",
    "\n",
    "rmse_score = make_scorer(rmse, greater_is_better=False) # make own scorer"
   ]
  },
  {
   "cell_type": "code",
   "execution_count": 34,
   "id": "b781b338",
   "metadata": {},
   "outputs": [],
   "source": [
    "def model(model_name, parameters, features_train):\n",
    "    model = GridSearchCV(model_name, param_grid=parameters, scoring=rmse_score, cv=5) \n",
    "    model.fit(features_train, target_train) \n",
    "    print('Модель:', model.best_estimator_)\n",
    "    print('Параметры модели: ', model.best_params_)\n",
    "    print('RMSE = ', (model.best_score_*-1))\n",
    "    return model.best_estimator_"
   ]
  },
  {
   "cell_type": "markdown",
   "id": "e866d1cf",
   "metadata": {},
   "source": [
    "### Linear Regression"
   ]
  },
  {
   "cell_type": "markdown",
   "id": "e28eec2c",
   "metadata": {},
   "source": [
    "**Линейная регрессия с нормализацией**"
   ]
  },
  {
   "cell_type": "code",
   "execution_count": 35,
   "id": "20975dd7",
   "metadata": {},
   "outputs": [
    {
     "name": "stdout",
     "output_type": "stream",
     "text": [
      "Модель: LinearRegression()\n",
      "RMSE =  2713.8220643311597\n",
      "CPU times: total: 21.8 s\n",
      "Wall time: 5.07 s\n"
     ]
    }
   ],
   "source": [
    "%%time\n",
    "ss = StandardScaler()\n",
    "features_train_ohe_scaled = ss.fit_transform(features_train_ohe)\n",
    "features_test_ohe_scaled = ss.transform(features_test_ohe)\n",
    "model_LR = LinearRegression()\n",
    "model_LR.fit(features_train_ohe_scaled, target_train) \n",
    "predicted = model_LR.predict(features_train_ohe_scaled)\n",
    "score_LR = rmse(target_train, predicted)\n",
    "print('Модель:', model_LR)\n",
    "print('RMSE = ', score_LR)"
   ]
  },
  {
   "cell_type": "markdown",
   "id": "78263618",
   "metadata": {},
   "source": [
    "**Линейная Регрессия без нормализации**"
   ]
  },
  {
   "cell_type": "code",
   "execution_count": 36,
   "id": "44c66dc5",
   "metadata": {},
   "outputs": [
    {
     "name": "stdout",
     "output_type": "stream",
     "text": [
      "Модель: LinearRegression()\n",
      "RMSE =  2713.819983764473\n",
      "CPU times: total: 21.5 s\n",
      "Wall time: 3.78 s\n"
     ]
    }
   ],
   "source": [
    "%%time\n",
    "\n",
    "model_LR = LinearRegression()\n",
    "model_LR.fit(features_train_ohe, target_train) \n",
    "predicted = model_LR.predict(features_train_ohe)\n",
    "score_LR = rmse(target_train, predicted)\n",
    "print('Модель:', model_LR)\n",
    "print('RMSE = ', score_LR)"
   ]
  },
  {
   "cell_type": "markdown",
   "id": "e9d92bc0",
   "metadata": {},
   "source": [
    "### Decision Tree Regressor"
   ]
  },
  {
   "cell_type": "code",
   "execution_count": 37,
   "id": "6f2f8e71",
   "metadata": {},
   "outputs": [
    {
     "name": "stdout",
     "output_type": "stream",
     "text": [
      "Модель: DecisionTreeRegressor(max_depth=18, random_state=12345)\n",
      "Параметры модели:  {'max_depth': 18}\n",
      "RMSE =  1852.6284276891347\n",
      "CPU times: total: 6min 36s\n",
      "Wall time: 10min 44s\n"
     ]
    }
   ],
   "source": [
    "%%time\n",
    "\n",
    "params_DT = {'max_depth': range(5, 30)}\n",
    "model_DT = model(DecisionTreeRegressor(random_state = 12345), params_DT, features_train_ohe)"
   ]
  },
  {
   "cell_type": "markdown",
   "id": "52d210be",
   "metadata": {},
   "source": [
    "### CatBoost Regressor"
   ]
  },
  {
   "cell_type": "code",
   "execution_count": 38,
   "id": "12e60cc1",
   "metadata": {},
   "outputs": [
    {
     "name": "stdout",
     "output_type": "stream",
     "text": [
      "Модель: <catboost.core.CatBoostRegressor object at 0x000002510231AAC0>\n",
      "Параметры модели:  {'depth': 10, 'iterations': 100, 'l2_leaf_reg': 3, 'learning_rate': 0.5}\n",
      "RMSE =  1599.1835186510918\n",
      "CPU times: total: 6min 57s\n",
      "Wall time: 15min 50s\n"
     ]
    }
   ],
   "source": [
    "%%time\n",
    "\n",
    "params_CB = {'learning_rate':[0.5, 0.8], \n",
    "              'depth': [6, 10, 20], \n",
    "              'l2_leaf_reg': [1, 3, 5, 7, 9], \n",
    "              'iterations': [100]}\n",
    "model_CB = model(CatBoostRegressor(random_state = 12345, cat_features = cat_features, verbose = 0), params_CB, features_train)"
   ]
  },
  {
   "cell_type": "markdown",
   "id": "92c645eb",
   "metadata": {},
   "source": [
    "### LightGBM Regressor"
   ]
  },
  {
   "cell_type": "code",
   "execution_count": null,
   "id": "79d35c92",
   "metadata": {},
   "outputs": [],
   "source": [
    "%%time\n",
    "\n",
    "params_LGBM = {'max_depth': [50, 75, 150], \n",
    "               'learning_rate': [0.01, 0.1, 0.5], \n",
    "               'num_leaves': [500, 1200], \n",
    "               'n_estimators':[50, 100, 200]}\n",
    "model_LGBM = model(LGBMRegressor(random_state = 12345), params_LGBM, features_train_light)\n"
   ]
  },
  {
   "cell_type": "markdown",
   "id": "9a209942",
   "metadata": {},
   "source": [
    "## Сравнение моделей"
   ]
  },
  {
   "cell_type": "markdown",
   "id": "01e30448",
   "metadata": {},
   "source": [
    "Итак, мы определили гиперпараметры и качество модели на кросс-валидации.\n",
    "\n",
    "Теперь протестируем лучшие модели на тестовой выборке и проведем их проверку на адекватность."
   ]
  },
  {
   "cell_type": "code",
   "execution_count": null,
   "id": "e353bb04",
   "metadata": {},
   "outputs": [],
   "source": [
    "start = time.time()\n",
    "\n",
    "DR = DummyRegressor(strategy=\"median\")\n",
    "DR.fit(features_train, target_train)\n",
    "predict_DR= DR.predict(features_test)\n",
    "score_dummy = rmse(target_test, predict_DR)\n",
    "print('RMSE Dummy регрессора =', score_dummy)\n",
    "dict_DR = {'Dummy Regressor': score_dummy}\n",
    "\n",
    "end = time.time()\n",
    "time_DR = end - start\n",
    "print('Wall time', time_DR)"
   ]
  },
  {
   "cell_type": "code",
   "execution_count": null,
   "id": "070c8295",
   "metadata": {},
   "outputs": [],
   "source": [
    "def test_model(name_model, best_model, features_train, features_test):\n",
    "    \"\"\"function that checks the model on the test set\n",
    "    input:  name_model - string\n",
    "            best_model - model \n",
    "            features_train \n",
    "            features_test\n",
    "    output: dictionary with name of the model and its  RMSE score\"\"\"\n",
    "    model = best_model\n",
    "    model.fit(features_train, target_train)\n",
    "    predicted = model.predict(features_test)\n",
    "    score = rmse(target_test, predicted)\n",
    "    print(best_model)\n",
    "    print('RMSE = ', score)\n",
    "    dict_model_score = {name_model:score}\n",
    "    return dict_model_score"
   ]
  },
  {
   "cell_type": "code",
   "execution_count": null,
   "id": "6c68ff02",
   "metadata": {},
   "outputs": [],
   "source": [
    "start = time.time()\n",
    "\n",
    "dict_LR = test_model('Linear Regression', model_LR, features_train_ohe, features_test_ohe)\n",
    "\n",
    "end = time.time()\n",
    "time_LR = end - start\n",
    "print('Wall time', time_LR)"
   ]
  },
  {
   "cell_type": "code",
   "execution_count": null,
   "id": "9245d6fd",
   "metadata": {},
   "outputs": [],
   "source": [
    "start = time.time()\n",
    "\n",
    "dict_DT = test_model('Decision Tree Regressor', model_DT, features_train_ohe, features_test_ohe)\n",
    "\n",
    "end = time.time()\n",
    "time_DT = end - start\n",
    "print('Wall time', time_DT)"
   ]
  },
  {
   "cell_type": "code",
   "execution_count": null,
   "id": "1274b652",
   "metadata": {},
   "outputs": [],
   "source": [
    "start = time.time()\n",
    "\n",
    "dict_CB = test_model('CatBoost Regressor', model_CB, features_train, features_test)\n",
    "\n",
    "end = time.time()\n",
    "time_CB = end - start\n",
    "print('Wall time', time_CB)"
   ]
  },
  {
   "cell_type": "code",
   "execution_count": null,
   "id": "2a5ddd97",
   "metadata": {},
   "outputs": [],
   "source": [
    "start = time.time()\n",
    "\n",
    "dict_LGBM = test_model('Light GBM Regressor', model_LGBM, features_train_light, features_test_light)\n",
    "\n",
    "end = time.time()\n",
    "time_LGBM = end - start\n",
    "print('Wall time', time_LGBM)"
   ]
  },
  {
   "cell_type": "code",
   "execution_count": null,
   "id": "12865e89",
   "metadata": {},
   "outputs": [],
   "source": [
    "dict_time = {'Dummy Regressor': time_DR, 'Linear Regression': time_LR, 'Decision Tree Regressor': time_DT, \n",
    "             'CatBoost Regressor': time_CB, 'Light GBM Regressor': time_LGBM}\n",
    "dict_scores = {**dict_DR, **dict_LR, **dict_DT, **dict_CB, **dict_LGBM}\n",
    "table_scores = pd.DataFrame(dict_scores, index = ['RMSE score']).T.reset_index()\n",
    "table_time = pd.DataFrame(dict_time, index = ['time(sec)']).T.reset_index()\n",
    "comparison_table = table_scores.merge(table_time, how = 'outer')\n",
    "comparison_table.rename(columns = {'index':'model'}, inplace = True)\n",
    "comparison_table"
   ]
  },
  {
   "cell_type": "markdown",
   "id": "7a62eac2",
   "metadata": {},
   "source": [
    "<a id = 'data_preparation'></a>\n",
    "<div style = 'border: solid green 2px; padding: 20px'>\n",
    "    \n",
    "**Вывод:**\n",
    "    \n",
    "- Oбучены четыре модели:  Линейная регрессия, Случайный лес, CatBoost Регрессия, LGBM Регрессия\n",
    "- Найдены оптимальные гиперпараметры для каждой модели\n",
    "- Модели с оптимальными гиперпараметры протестированы на тестовом наборе данных\n",
    "- Проведено сравнение моделей по скорости работы и качества предсказания\n",
    "- Проверена адекватность всех моделей(сравнение с константной)\n",
    "- Наименьший показатель метрики RMSE = 1487.79 достигнут при использовании модели LightGBM Regressor\n",
    "- Самая быстрая модель  - Линейная регрессия.Но у нее очень плохое качество предсказания по сравнению с остальными моделями.\n",
    "- LightGBM Regressor чемпион по качеству и времени работы.\n",
    "- Для работы рекомендуется применять модель на основе LightGBM Regressor.\n"
   ]
  }
 ],
 "metadata": {
  "kernelspec": {
   "display_name": "Python 3 (ipykernel)",
   "language": "python",
   "name": "python3"
  },
  "language_info": {
   "codemirror_mode": {
    "name": "ipython",
    "version": 3
   },
   "file_extension": ".py",
   "mimetype": "text/x-python",
   "name": "python",
   "nbconvert_exporter": "python",
   "pygments_lexer": "ipython3",
   "version": "3.8.5"
  },
  "toc": {
   "base_numbering": 1,
   "nav_menu": {},
   "number_sections": true,
   "sideBar": true,
   "skip_h1_title": true,
   "title_cell": "Table of Contents",
   "title_sidebar": "Contents",
   "toc_cell": false,
   "toc_position": {},
   "toc_section_display": true,
   "toc_window_display": false
  }
 },
 "nbformat": 4,
 "nbformat_minor": 5
}
